{
  "cells": [
    {
      "cell_type": "markdown",
      "metadata": {
        "id": "XZTi9tYLPBJ6"
      },
      "source": [
        ""
      ]
    },
    {
      "cell_type": "markdown",
      "metadata": {
        "id": "w8PSzKYcPHZ1"
      },
      "source": [
        "A bank is investigating a very high rate of customers leaving the bank. Here is a 10.000 records dataset to investigate and predict which of the customers are more likely to leave the bank soon.\n",
        "\n",
        "\n",
        "\n",
        "https://drive.google.com/file/d/1fA5uR_Sb5wcsFgg3Ds27isoBVapD_GVR/view?usp=sharing"
      ]
    },
    {
      "cell_type": "code",
      "execution_count": 492,
      "metadata": {
        "id": "GA6Cn_kgPS9H"
      },
      "outputs": [],
      "source": [
        "import pandas as pd\n",
        "import numpy as np\n",
        "import matplotlib.pyplot as plt\n",
        "import seaborn as sns\n"
      ]
    },
    {
      "cell_type": "code",
      "execution_count": 493,
      "metadata": {
        "id": "gvWc2XKcPjeg"
      },
      "outputs": [],
      "source": [
        "#Load our dataset\n",
        "df=pd.read_csv(\"/content/drive/MyDrive/Deep Learning/Churn_Modelling.csv\")\n"
      ]
    },
    {
      "cell_type": "code",
      "execution_count": 494,
      "metadata": {
        "colab": {
          "base_uri": "https://localhost:8080/",
          "height": 300
        },
        "id": "7a6XKEHCPw75",
        "outputId": "d5d7da57-278a-410e-e73d-1fa526ad36df"
      },
      "outputs": [
        {
          "output_type": "execute_result",
          "data": {
            "text/plain": [
              "         RowNumber    CustomerId   CreditScore           Age        Tenure  \\\n",
              "count  10000.00000  1.000000e+04  10000.000000  10000.000000  10000.000000   \n",
              "mean    5000.50000  1.569094e+07    650.528800     38.921800      5.012800   \n",
              "std     2886.89568  7.193619e+04     96.653299     10.487806      2.892174   \n",
              "min        1.00000  1.556570e+07    350.000000     18.000000      0.000000   \n",
              "25%     2500.75000  1.562853e+07    584.000000     32.000000      3.000000   \n",
              "50%     5000.50000  1.569074e+07    652.000000     37.000000      5.000000   \n",
              "75%     7500.25000  1.575323e+07    718.000000     44.000000      7.000000   \n",
              "max    10000.00000  1.581569e+07    850.000000     92.000000     10.000000   \n",
              "\n",
              "             Balance  NumOfProducts    HasCrCard  IsActiveMember  \\\n",
              "count   10000.000000   10000.000000  10000.00000    10000.000000   \n",
              "mean    76485.889288       1.530200      0.70550        0.515100   \n",
              "std     62397.405202       0.581654      0.45584        0.499797   \n",
              "min         0.000000       1.000000      0.00000        0.000000   \n",
              "25%         0.000000       1.000000      0.00000        0.000000   \n",
              "50%     97198.540000       1.000000      1.00000        1.000000   \n",
              "75%    127644.240000       2.000000      1.00000        1.000000   \n",
              "max    250898.090000       4.000000      1.00000        1.000000   \n",
              "\n",
              "       EstimatedSalary        Exited  \n",
              "count     10000.000000  10000.000000  \n",
              "mean     100090.239881      0.203700  \n",
              "std       57510.492818      0.402769  \n",
              "min          11.580000      0.000000  \n",
              "25%       51002.110000      0.000000  \n",
              "50%      100193.915000      0.000000  \n",
              "75%      149388.247500      0.000000  \n",
              "max      199992.480000      1.000000  "
            ],
            "text/html": [
              "\n",
              "  <div id=\"df-4092ec58-b367-4bd1-9a0c-2c8bff7475e0\">\n",
              "    <div class=\"colab-df-container\">\n",
              "      <div>\n",
              "<style scoped>\n",
              "    .dataframe tbody tr th:only-of-type {\n",
              "        vertical-align: middle;\n",
              "    }\n",
              "\n",
              "    .dataframe tbody tr th {\n",
              "        vertical-align: top;\n",
              "    }\n",
              "\n",
              "    .dataframe thead th {\n",
              "        text-align: right;\n",
              "    }\n",
              "</style>\n",
              "<table border=\"1\" class=\"dataframe\">\n",
              "  <thead>\n",
              "    <tr style=\"text-align: right;\">\n",
              "      <th></th>\n",
              "      <th>RowNumber</th>\n",
              "      <th>CustomerId</th>\n",
              "      <th>CreditScore</th>\n",
              "      <th>Age</th>\n",
              "      <th>Tenure</th>\n",
              "      <th>Balance</th>\n",
              "      <th>NumOfProducts</th>\n",
              "      <th>HasCrCard</th>\n",
              "      <th>IsActiveMember</th>\n",
              "      <th>EstimatedSalary</th>\n",
              "      <th>Exited</th>\n",
              "    </tr>\n",
              "  </thead>\n",
              "  <tbody>\n",
              "    <tr>\n",
              "      <th>count</th>\n",
              "      <td>10000.00000</td>\n",
              "      <td>1.000000e+04</td>\n",
              "      <td>10000.000000</td>\n",
              "      <td>10000.000000</td>\n",
              "      <td>10000.000000</td>\n",
              "      <td>10000.000000</td>\n",
              "      <td>10000.000000</td>\n",
              "      <td>10000.00000</td>\n",
              "      <td>10000.000000</td>\n",
              "      <td>10000.000000</td>\n",
              "      <td>10000.000000</td>\n",
              "    </tr>\n",
              "    <tr>\n",
              "      <th>mean</th>\n",
              "      <td>5000.50000</td>\n",
              "      <td>1.569094e+07</td>\n",
              "      <td>650.528800</td>\n",
              "      <td>38.921800</td>\n",
              "      <td>5.012800</td>\n",
              "      <td>76485.889288</td>\n",
              "      <td>1.530200</td>\n",
              "      <td>0.70550</td>\n",
              "      <td>0.515100</td>\n",
              "      <td>100090.239881</td>\n",
              "      <td>0.203700</td>\n",
              "    </tr>\n",
              "    <tr>\n",
              "      <th>std</th>\n",
              "      <td>2886.89568</td>\n",
              "      <td>7.193619e+04</td>\n",
              "      <td>96.653299</td>\n",
              "      <td>10.487806</td>\n",
              "      <td>2.892174</td>\n",
              "      <td>62397.405202</td>\n",
              "      <td>0.581654</td>\n",
              "      <td>0.45584</td>\n",
              "      <td>0.499797</td>\n",
              "      <td>57510.492818</td>\n",
              "      <td>0.402769</td>\n",
              "    </tr>\n",
              "    <tr>\n",
              "      <th>min</th>\n",
              "      <td>1.00000</td>\n",
              "      <td>1.556570e+07</td>\n",
              "      <td>350.000000</td>\n",
              "      <td>18.000000</td>\n",
              "      <td>0.000000</td>\n",
              "      <td>0.000000</td>\n",
              "      <td>1.000000</td>\n",
              "      <td>0.00000</td>\n",
              "      <td>0.000000</td>\n",
              "      <td>11.580000</td>\n",
              "      <td>0.000000</td>\n",
              "    </tr>\n",
              "    <tr>\n",
              "      <th>25%</th>\n",
              "      <td>2500.75000</td>\n",
              "      <td>1.562853e+07</td>\n",
              "      <td>584.000000</td>\n",
              "      <td>32.000000</td>\n",
              "      <td>3.000000</td>\n",
              "      <td>0.000000</td>\n",
              "      <td>1.000000</td>\n",
              "      <td>0.00000</td>\n",
              "      <td>0.000000</td>\n",
              "      <td>51002.110000</td>\n",
              "      <td>0.000000</td>\n",
              "    </tr>\n",
              "    <tr>\n",
              "      <th>50%</th>\n",
              "      <td>5000.50000</td>\n",
              "      <td>1.569074e+07</td>\n",
              "      <td>652.000000</td>\n",
              "      <td>37.000000</td>\n",
              "      <td>5.000000</td>\n",
              "      <td>97198.540000</td>\n",
              "      <td>1.000000</td>\n",
              "      <td>1.00000</td>\n",
              "      <td>1.000000</td>\n",
              "      <td>100193.915000</td>\n",
              "      <td>0.000000</td>\n",
              "    </tr>\n",
              "    <tr>\n",
              "      <th>75%</th>\n",
              "      <td>7500.25000</td>\n",
              "      <td>1.575323e+07</td>\n",
              "      <td>718.000000</td>\n",
              "      <td>44.000000</td>\n",
              "      <td>7.000000</td>\n",
              "      <td>127644.240000</td>\n",
              "      <td>2.000000</td>\n",
              "      <td>1.00000</td>\n",
              "      <td>1.000000</td>\n",
              "      <td>149388.247500</td>\n",
              "      <td>0.000000</td>\n",
              "    </tr>\n",
              "    <tr>\n",
              "      <th>max</th>\n",
              "      <td>10000.00000</td>\n",
              "      <td>1.581569e+07</td>\n",
              "      <td>850.000000</td>\n",
              "      <td>92.000000</td>\n",
              "      <td>10.000000</td>\n",
              "      <td>250898.090000</td>\n",
              "      <td>4.000000</td>\n",
              "      <td>1.00000</td>\n",
              "      <td>1.000000</td>\n",
              "      <td>199992.480000</td>\n",
              "      <td>1.000000</td>\n",
              "    </tr>\n",
              "  </tbody>\n",
              "</table>\n",
              "</div>\n",
              "      <button class=\"colab-df-convert\" onclick=\"convertToInteractive('df-4092ec58-b367-4bd1-9a0c-2c8bff7475e0')\"\n",
              "              title=\"Convert this dataframe to an interactive table.\"\n",
              "              style=\"display:none;\">\n",
              "        \n",
              "  <svg xmlns=\"http://www.w3.org/2000/svg\" height=\"24px\"viewBox=\"0 0 24 24\"\n",
              "       width=\"24px\">\n",
              "    <path d=\"M0 0h24v24H0V0z\" fill=\"none\"/>\n",
              "    <path d=\"M18.56 5.44l.94 2.06.94-2.06 2.06-.94-2.06-.94-.94-2.06-.94 2.06-2.06.94zm-11 1L8.5 8.5l.94-2.06 2.06-.94-2.06-.94L8.5 2.5l-.94 2.06-2.06.94zm10 10l.94 2.06.94-2.06 2.06-.94-2.06-.94-.94-2.06-.94 2.06-2.06.94z\"/><path d=\"M17.41 7.96l-1.37-1.37c-.4-.4-.92-.59-1.43-.59-.52 0-1.04.2-1.43.59L10.3 9.45l-7.72 7.72c-.78.78-.78 2.05 0 2.83L4 21.41c.39.39.9.59 1.41.59.51 0 1.02-.2 1.41-.59l7.78-7.78 2.81-2.81c.8-.78.8-2.07 0-2.86zM5.41 20L4 18.59l7.72-7.72 1.47 1.35L5.41 20z\"/>\n",
              "  </svg>\n",
              "      </button>\n",
              "      \n",
              "  <style>\n",
              "    .colab-df-container {\n",
              "      display:flex;\n",
              "      flex-wrap:wrap;\n",
              "      gap: 12px;\n",
              "    }\n",
              "\n",
              "    .colab-df-convert {\n",
              "      background-color: #E8F0FE;\n",
              "      border: none;\n",
              "      border-radius: 50%;\n",
              "      cursor: pointer;\n",
              "      display: none;\n",
              "      fill: #1967D2;\n",
              "      height: 32px;\n",
              "      padding: 0 0 0 0;\n",
              "      width: 32px;\n",
              "    }\n",
              "\n",
              "    .colab-df-convert:hover {\n",
              "      background-color: #E2EBFA;\n",
              "      box-shadow: 0px 1px 2px rgba(60, 64, 67, 0.3), 0px 1px 3px 1px rgba(60, 64, 67, 0.15);\n",
              "      fill: #174EA6;\n",
              "    }\n",
              "\n",
              "    [theme=dark] .colab-df-convert {\n",
              "      background-color: #3B4455;\n",
              "      fill: #D2E3FC;\n",
              "    }\n",
              "\n",
              "    [theme=dark] .colab-df-convert:hover {\n",
              "      background-color: #434B5C;\n",
              "      box-shadow: 0px 1px 3px 1px rgba(0, 0, 0, 0.15);\n",
              "      filter: drop-shadow(0px 1px 2px rgba(0, 0, 0, 0.3));\n",
              "      fill: #FFFFFF;\n",
              "    }\n",
              "  </style>\n",
              "\n",
              "      <script>\n",
              "        const buttonEl =\n",
              "          document.querySelector('#df-4092ec58-b367-4bd1-9a0c-2c8bff7475e0 button.colab-df-convert');\n",
              "        buttonEl.style.display =\n",
              "          google.colab.kernel.accessAllowed ? 'block' : 'none';\n",
              "\n",
              "        async function convertToInteractive(key) {\n",
              "          const element = document.querySelector('#df-4092ec58-b367-4bd1-9a0c-2c8bff7475e0');\n",
              "          const dataTable =\n",
              "            await google.colab.kernel.invokeFunction('convertToInteractive',\n",
              "                                                     [key], {});\n",
              "          if (!dataTable) return;\n",
              "\n",
              "          const docLinkHtml = 'Like what you see? Visit the ' +\n",
              "            '<a target=\"_blank\" href=https://colab.research.google.com/notebooks/data_table.ipynb>data table notebook</a>'\n",
              "            + ' to learn more about interactive tables.';\n",
              "          element.innerHTML = '';\n",
              "          dataTable['output_type'] = 'display_data';\n",
              "          await google.colab.output.renderOutput(dataTable, element);\n",
              "          const docLink = document.createElement('div');\n",
              "          docLink.innerHTML = docLinkHtml;\n",
              "          element.appendChild(docLink);\n",
              "        }\n",
              "      </script>\n",
              "    </div>\n",
              "  </div>\n",
              "  "
            ]
          },
          "metadata": {},
          "execution_count": 494
        }
      ],
      "source": [
        "#describe() The describe() method is used for calculating some statistical data like percentile, mean and std of the numerical values of the Series or DataFrame. \n",
        "#It analyzes both numeric and object series and also the DataFrame column sets of mixed data types.\n",
        "df.describe()"
      ]
    },
    {
      "cell_type": "code",
      "execution_count": 495,
      "metadata": {
        "colab": {
          "base_uri": "https://localhost:8080/",
          "height": 0
        },
        "id": "IjdJd7tFPzzf",
        "outputId": "059e3dc9-7ce4-43a0-ef9e-9438455ba302"
      },
      "outputs": [
        {
          "output_type": "stream",
          "name": "stdout",
          "text": [
            "<class 'pandas.core.frame.DataFrame'>\n",
            "RangeIndex: 10000 entries, 0 to 9999\n",
            "Data columns (total 14 columns):\n",
            " #   Column           Non-Null Count  Dtype  \n",
            "---  ------           --------------  -----  \n",
            " 0   RowNumber        10000 non-null  int64  \n",
            " 1   CustomerId       10000 non-null  int64  \n",
            " 2   Surname          10000 non-null  object \n",
            " 3   CreditScore      10000 non-null  int64  \n",
            " 4   Geography        10000 non-null  object \n",
            " 5   Gender           10000 non-null  object \n",
            " 6   Age              10000 non-null  int64  \n",
            " 7   Tenure           10000 non-null  int64  \n",
            " 8   Balance          10000 non-null  float64\n",
            " 9   NumOfProducts    10000 non-null  int64  \n",
            " 10  HasCrCard        10000 non-null  int64  \n",
            " 11  IsActiveMember   10000 non-null  int64  \n",
            " 12  EstimatedSalary  10000 non-null  float64\n",
            " 13  Exited           10000 non-null  int64  \n",
            "dtypes: float64(2), int64(9), object(3)\n",
            "memory usage: 1.1+ MB\n"
          ]
        }
      ],
      "source": [
        "#The info() method prints information about the DataFrame. \n",
        "#The information contains the number of columns, column labels, column data types, memory usage, range index, and the number of cells in each column (non-null values). \n",
        "df.info()"
      ]
    },
    {
      "cell_type": "code",
      "execution_count": 496,
      "metadata": {
        "colab": {
          "base_uri": "https://localhost:8080/",
          "height": 206
        },
        "id": "LmbGiNcGP3eb",
        "outputId": "a229124e-e3b7-490d-c211-084f1596d270"
      },
      "outputs": [
        {
          "output_type": "execute_result",
          "data": {
            "text/plain": [
              "   RowNumber  CustomerId   Surname  CreditScore Geography  Gender  Age  \\\n",
              "0          1    15634602  Hargrave          619    France  Female   42   \n",
              "1          2    15647311      Hill          608     Spain  Female   41   \n",
              "2          3    15619304      Onio          502    France  Female   42   \n",
              "3          4    15701354      Boni          699    France  Female   39   \n",
              "4          5    15737888  Mitchell          850     Spain  Female   43   \n",
              "\n",
              "   Tenure    Balance  NumOfProducts  HasCrCard  IsActiveMember  \\\n",
              "0       2       0.00              1          1               1   \n",
              "1       1   83807.86              1          0               1   \n",
              "2       8  159660.80              3          1               0   \n",
              "3       1       0.00              2          0               0   \n",
              "4       2  125510.82              1          1               1   \n",
              "\n",
              "   EstimatedSalary  Exited  \n",
              "0        101348.88       1  \n",
              "1        112542.58       0  \n",
              "2        113931.57       1  \n",
              "3         93826.63       0  \n",
              "4         79084.10       0  "
            ],
            "text/html": [
              "\n",
              "  <div id=\"df-6cb03e49-c781-4f28-8111-77883f8a8944\">\n",
              "    <div class=\"colab-df-container\">\n",
              "      <div>\n",
              "<style scoped>\n",
              "    .dataframe tbody tr th:only-of-type {\n",
              "        vertical-align: middle;\n",
              "    }\n",
              "\n",
              "    .dataframe tbody tr th {\n",
              "        vertical-align: top;\n",
              "    }\n",
              "\n",
              "    .dataframe thead th {\n",
              "        text-align: right;\n",
              "    }\n",
              "</style>\n",
              "<table border=\"1\" class=\"dataframe\">\n",
              "  <thead>\n",
              "    <tr style=\"text-align: right;\">\n",
              "      <th></th>\n",
              "      <th>RowNumber</th>\n",
              "      <th>CustomerId</th>\n",
              "      <th>Surname</th>\n",
              "      <th>CreditScore</th>\n",
              "      <th>Geography</th>\n",
              "      <th>Gender</th>\n",
              "      <th>Age</th>\n",
              "      <th>Tenure</th>\n",
              "      <th>Balance</th>\n",
              "      <th>NumOfProducts</th>\n",
              "      <th>HasCrCard</th>\n",
              "      <th>IsActiveMember</th>\n",
              "      <th>EstimatedSalary</th>\n",
              "      <th>Exited</th>\n",
              "    </tr>\n",
              "  </thead>\n",
              "  <tbody>\n",
              "    <tr>\n",
              "      <th>0</th>\n",
              "      <td>1</td>\n",
              "      <td>15634602</td>\n",
              "      <td>Hargrave</td>\n",
              "      <td>619</td>\n",
              "      <td>France</td>\n",
              "      <td>Female</td>\n",
              "      <td>42</td>\n",
              "      <td>2</td>\n",
              "      <td>0.00</td>\n",
              "      <td>1</td>\n",
              "      <td>1</td>\n",
              "      <td>1</td>\n",
              "      <td>101348.88</td>\n",
              "      <td>1</td>\n",
              "    </tr>\n",
              "    <tr>\n",
              "      <th>1</th>\n",
              "      <td>2</td>\n",
              "      <td>15647311</td>\n",
              "      <td>Hill</td>\n",
              "      <td>608</td>\n",
              "      <td>Spain</td>\n",
              "      <td>Female</td>\n",
              "      <td>41</td>\n",
              "      <td>1</td>\n",
              "      <td>83807.86</td>\n",
              "      <td>1</td>\n",
              "      <td>0</td>\n",
              "      <td>1</td>\n",
              "      <td>112542.58</td>\n",
              "      <td>0</td>\n",
              "    </tr>\n",
              "    <tr>\n",
              "      <th>2</th>\n",
              "      <td>3</td>\n",
              "      <td>15619304</td>\n",
              "      <td>Onio</td>\n",
              "      <td>502</td>\n",
              "      <td>France</td>\n",
              "      <td>Female</td>\n",
              "      <td>42</td>\n",
              "      <td>8</td>\n",
              "      <td>159660.80</td>\n",
              "      <td>3</td>\n",
              "      <td>1</td>\n",
              "      <td>0</td>\n",
              "      <td>113931.57</td>\n",
              "      <td>1</td>\n",
              "    </tr>\n",
              "    <tr>\n",
              "      <th>3</th>\n",
              "      <td>4</td>\n",
              "      <td>15701354</td>\n",
              "      <td>Boni</td>\n",
              "      <td>699</td>\n",
              "      <td>France</td>\n",
              "      <td>Female</td>\n",
              "      <td>39</td>\n",
              "      <td>1</td>\n",
              "      <td>0.00</td>\n",
              "      <td>2</td>\n",
              "      <td>0</td>\n",
              "      <td>0</td>\n",
              "      <td>93826.63</td>\n",
              "      <td>0</td>\n",
              "    </tr>\n",
              "    <tr>\n",
              "      <th>4</th>\n",
              "      <td>5</td>\n",
              "      <td>15737888</td>\n",
              "      <td>Mitchell</td>\n",
              "      <td>850</td>\n",
              "      <td>Spain</td>\n",
              "      <td>Female</td>\n",
              "      <td>43</td>\n",
              "      <td>2</td>\n",
              "      <td>125510.82</td>\n",
              "      <td>1</td>\n",
              "      <td>1</td>\n",
              "      <td>1</td>\n",
              "      <td>79084.10</td>\n",
              "      <td>0</td>\n",
              "    </tr>\n",
              "  </tbody>\n",
              "</table>\n",
              "</div>\n",
              "      <button class=\"colab-df-convert\" onclick=\"convertToInteractive('df-6cb03e49-c781-4f28-8111-77883f8a8944')\"\n",
              "              title=\"Convert this dataframe to an interactive table.\"\n",
              "              style=\"display:none;\">\n",
              "        \n",
              "  <svg xmlns=\"http://www.w3.org/2000/svg\" height=\"24px\"viewBox=\"0 0 24 24\"\n",
              "       width=\"24px\">\n",
              "    <path d=\"M0 0h24v24H0V0z\" fill=\"none\"/>\n",
              "    <path d=\"M18.56 5.44l.94 2.06.94-2.06 2.06-.94-2.06-.94-.94-2.06-.94 2.06-2.06.94zm-11 1L8.5 8.5l.94-2.06 2.06-.94-2.06-.94L8.5 2.5l-.94 2.06-2.06.94zm10 10l.94 2.06.94-2.06 2.06-.94-2.06-.94-.94-2.06-.94 2.06-2.06.94z\"/><path d=\"M17.41 7.96l-1.37-1.37c-.4-.4-.92-.59-1.43-.59-.52 0-1.04.2-1.43.59L10.3 9.45l-7.72 7.72c-.78.78-.78 2.05 0 2.83L4 21.41c.39.39.9.59 1.41.59.51 0 1.02-.2 1.41-.59l7.78-7.78 2.81-2.81c.8-.78.8-2.07 0-2.86zM5.41 20L4 18.59l7.72-7.72 1.47 1.35L5.41 20z\"/>\n",
              "  </svg>\n",
              "      </button>\n",
              "      \n",
              "  <style>\n",
              "    .colab-df-container {\n",
              "      display:flex;\n",
              "      flex-wrap:wrap;\n",
              "      gap: 12px;\n",
              "    }\n",
              "\n",
              "    .colab-df-convert {\n",
              "      background-color: #E8F0FE;\n",
              "      border: none;\n",
              "      border-radius: 50%;\n",
              "      cursor: pointer;\n",
              "      display: none;\n",
              "      fill: #1967D2;\n",
              "      height: 32px;\n",
              "      padding: 0 0 0 0;\n",
              "      width: 32px;\n",
              "    }\n",
              "\n",
              "    .colab-df-convert:hover {\n",
              "      background-color: #E2EBFA;\n",
              "      box-shadow: 0px 1px 2px rgba(60, 64, 67, 0.3), 0px 1px 3px 1px rgba(60, 64, 67, 0.15);\n",
              "      fill: #174EA6;\n",
              "    }\n",
              "\n",
              "    [theme=dark] .colab-df-convert {\n",
              "      background-color: #3B4455;\n",
              "      fill: #D2E3FC;\n",
              "    }\n",
              "\n",
              "    [theme=dark] .colab-df-convert:hover {\n",
              "      background-color: #434B5C;\n",
              "      box-shadow: 0px 1px 3px 1px rgba(0, 0, 0, 0.15);\n",
              "      filter: drop-shadow(0px 1px 2px rgba(0, 0, 0, 0.3));\n",
              "      fill: #FFFFFF;\n",
              "    }\n",
              "  </style>\n",
              "\n",
              "      <script>\n",
              "        const buttonEl =\n",
              "          document.querySelector('#df-6cb03e49-c781-4f28-8111-77883f8a8944 button.colab-df-convert');\n",
              "        buttonEl.style.display =\n",
              "          google.colab.kernel.accessAllowed ? 'block' : 'none';\n",
              "\n",
              "        async function convertToInteractive(key) {\n",
              "          const element = document.querySelector('#df-6cb03e49-c781-4f28-8111-77883f8a8944');\n",
              "          const dataTable =\n",
              "            await google.colab.kernel.invokeFunction('convertToInteractive',\n",
              "                                                     [key], {});\n",
              "          if (!dataTable) return;\n",
              "\n",
              "          const docLinkHtml = 'Like what you see? Visit the ' +\n",
              "            '<a target=\"_blank\" href=https://colab.research.google.com/notebooks/data_table.ipynb>data table notebook</a>'\n",
              "            + ' to learn more about interactive tables.';\n",
              "          element.innerHTML = '';\n",
              "          dataTable['output_type'] = 'display_data';\n",
              "          await google.colab.output.renderOutput(dataTable, element);\n",
              "          const docLink = document.createElement('div');\n",
              "          docLink.innerHTML = docLinkHtml;\n",
              "          element.appendChild(docLink);\n",
              "        }\n",
              "      </script>\n",
              "    </div>\n",
              "  </div>\n",
              "  "
            ]
          },
          "metadata": {},
          "execution_count": 496
        }
      ],
      "source": [
        "#head () function is used to access the first n rows of a dataframe or series. It returns a smaller version of the caller object with the first few entries.\n",
        "df.head()"
      ]
    },
    {
      "cell_type": "code",
      "source": [
        "#DataFrame stores the number of rows and columns as a tuple (number of rows, number of columns)\n",
        "df.shape"
      ],
      "metadata": {
        "colab": {
          "base_uri": "https://localhost:8080/",
          "height": 0
        },
        "id": "RA9BU_joHiLp",
        "outputId": "dea958a9-30d2-42ac-c7c6-be70fed1cf71"
      },
      "execution_count": 497,
      "outputs": [
        {
          "output_type": "execute_result",
          "data": {
            "text/plain": [
              "(10000, 14)"
            ]
          },
          "metadata": {},
          "execution_count": 497
        }
      ]
    },
    {
      "cell_type": "code",
      "source": [
        "df.columns"
      ],
      "metadata": {
        "colab": {
          "base_uri": "https://localhost:8080/",
          "height": 0
        },
        "id": "0nY4Xt3yHxYL",
        "outputId": "a644d426-56c8-49c7-bca8-c17a2803cf08"
      },
      "execution_count": 498,
      "outputs": [
        {
          "output_type": "execute_result",
          "data": {
            "text/plain": [
              "Index(['RowNumber', 'CustomerId', 'Surname', 'CreditScore', 'Geography',\n",
              "       'Gender', 'Age', 'Tenure', 'Balance', 'NumOfProducts', 'HasCrCard',\n",
              "       'IsActiveMember', 'EstimatedSalary', 'Exited'],\n",
              "      dtype='object')"
            ]
          },
          "metadata": {},
          "execution_count": 498
        }
      ]
    },
    {
      "cell_type": "code",
      "source": [
        "df['Exited'].value_counts()"
      ],
      "metadata": {
        "colab": {
          "base_uri": "https://localhost:8080/",
          "height": 0
        },
        "id": "5UKBntLyIELz",
        "outputId": "ca33f57c-3c5a-48cf-eb9c-41240ebdf45a"
      },
      "execution_count": 499,
      "outputs": [
        {
          "output_type": "execute_result",
          "data": {
            "text/plain": [
              "0    7963\n",
              "1    2037\n",
              "Name: Exited, dtype: int64"
            ]
          },
          "metadata": {},
          "execution_count": 499
        }
      ]
    },
    {
      "cell_type": "code",
      "source": [
        "df.groupby('Exited').count()"
      ],
      "metadata": {
        "colab": {
          "base_uri": "https://localhost:8080/",
          "height": 143
        },
        "id": "3ByI7I_BITU8",
        "outputId": "f2aa33d7-96cd-4e87-bde4-5854f3a6d221"
      },
      "execution_count": 500,
      "outputs": [
        {
          "output_type": "execute_result",
          "data": {
            "text/plain": [
              "        RowNumber  CustomerId  Surname  CreditScore  Geography  Gender   Age  \\\n",
              "Exited                                                                         \n",
              "0            7963        7963     7963         7963       7963    7963  7963   \n",
              "1            2037        2037     2037         2037       2037    2037  2037   \n",
              "\n",
              "        Tenure  Balance  NumOfProducts  HasCrCard  IsActiveMember  \\\n",
              "Exited                                                              \n",
              "0         7963     7963           7963       7963            7963   \n",
              "1         2037     2037           2037       2037            2037   \n",
              "\n",
              "        EstimatedSalary  \n",
              "Exited                   \n",
              "0                  7963  \n",
              "1                  2037  "
            ],
            "text/html": [
              "\n",
              "  <div id=\"df-6ea22586-81f7-4e50-af5d-7b793fb5e2ba\">\n",
              "    <div class=\"colab-df-container\">\n",
              "      <div>\n",
              "<style scoped>\n",
              "    .dataframe tbody tr th:only-of-type {\n",
              "        vertical-align: middle;\n",
              "    }\n",
              "\n",
              "    .dataframe tbody tr th {\n",
              "        vertical-align: top;\n",
              "    }\n",
              "\n",
              "    .dataframe thead th {\n",
              "        text-align: right;\n",
              "    }\n",
              "</style>\n",
              "<table border=\"1\" class=\"dataframe\">\n",
              "  <thead>\n",
              "    <tr style=\"text-align: right;\">\n",
              "      <th></th>\n",
              "      <th>RowNumber</th>\n",
              "      <th>CustomerId</th>\n",
              "      <th>Surname</th>\n",
              "      <th>CreditScore</th>\n",
              "      <th>Geography</th>\n",
              "      <th>Gender</th>\n",
              "      <th>Age</th>\n",
              "      <th>Tenure</th>\n",
              "      <th>Balance</th>\n",
              "      <th>NumOfProducts</th>\n",
              "      <th>HasCrCard</th>\n",
              "      <th>IsActiveMember</th>\n",
              "      <th>EstimatedSalary</th>\n",
              "    </tr>\n",
              "    <tr>\n",
              "      <th>Exited</th>\n",
              "      <th></th>\n",
              "      <th></th>\n",
              "      <th></th>\n",
              "      <th></th>\n",
              "      <th></th>\n",
              "      <th></th>\n",
              "      <th></th>\n",
              "      <th></th>\n",
              "      <th></th>\n",
              "      <th></th>\n",
              "      <th></th>\n",
              "      <th></th>\n",
              "      <th></th>\n",
              "    </tr>\n",
              "  </thead>\n",
              "  <tbody>\n",
              "    <tr>\n",
              "      <th>0</th>\n",
              "      <td>7963</td>\n",
              "      <td>7963</td>\n",
              "      <td>7963</td>\n",
              "      <td>7963</td>\n",
              "      <td>7963</td>\n",
              "      <td>7963</td>\n",
              "      <td>7963</td>\n",
              "      <td>7963</td>\n",
              "      <td>7963</td>\n",
              "      <td>7963</td>\n",
              "      <td>7963</td>\n",
              "      <td>7963</td>\n",
              "      <td>7963</td>\n",
              "    </tr>\n",
              "    <tr>\n",
              "      <th>1</th>\n",
              "      <td>2037</td>\n",
              "      <td>2037</td>\n",
              "      <td>2037</td>\n",
              "      <td>2037</td>\n",
              "      <td>2037</td>\n",
              "      <td>2037</td>\n",
              "      <td>2037</td>\n",
              "      <td>2037</td>\n",
              "      <td>2037</td>\n",
              "      <td>2037</td>\n",
              "      <td>2037</td>\n",
              "      <td>2037</td>\n",
              "      <td>2037</td>\n",
              "    </tr>\n",
              "  </tbody>\n",
              "</table>\n",
              "</div>\n",
              "      <button class=\"colab-df-convert\" onclick=\"convertToInteractive('df-6ea22586-81f7-4e50-af5d-7b793fb5e2ba')\"\n",
              "              title=\"Convert this dataframe to an interactive table.\"\n",
              "              style=\"display:none;\">\n",
              "        \n",
              "  <svg xmlns=\"http://www.w3.org/2000/svg\" height=\"24px\"viewBox=\"0 0 24 24\"\n",
              "       width=\"24px\">\n",
              "    <path d=\"M0 0h24v24H0V0z\" fill=\"none\"/>\n",
              "    <path d=\"M18.56 5.44l.94 2.06.94-2.06 2.06-.94-2.06-.94-.94-2.06-.94 2.06-2.06.94zm-11 1L8.5 8.5l.94-2.06 2.06-.94-2.06-.94L8.5 2.5l-.94 2.06-2.06.94zm10 10l.94 2.06.94-2.06 2.06-.94-2.06-.94-.94-2.06-.94 2.06-2.06.94z\"/><path d=\"M17.41 7.96l-1.37-1.37c-.4-.4-.92-.59-1.43-.59-.52 0-1.04.2-1.43.59L10.3 9.45l-7.72 7.72c-.78.78-.78 2.05 0 2.83L4 21.41c.39.39.9.59 1.41.59.51 0 1.02-.2 1.41-.59l7.78-7.78 2.81-2.81c.8-.78.8-2.07 0-2.86zM5.41 20L4 18.59l7.72-7.72 1.47 1.35L5.41 20z\"/>\n",
              "  </svg>\n",
              "      </button>\n",
              "      \n",
              "  <style>\n",
              "    .colab-df-container {\n",
              "      display:flex;\n",
              "      flex-wrap:wrap;\n",
              "      gap: 12px;\n",
              "    }\n",
              "\n",
              "    .colab-df-convert {\n",
              "      background-color: #E8F0FE;\n",
              "      border: none;\n",
              "      border-radius: 50%;\n",
              "      cursor: pointer;\n",
              "      display: none;\n",
              "      fill: #1967D2;\n",
              "      height: 32px;\n",
              "      padding: 0 0 0 0;\n",
              "      width: 32px;\n",
              "    }\n",
              "\n",
              "    .colab-df-convert:hover {\n",
              "      background-color: #E2EBFA;\n",
              "      box-shadow: 0px 1px 2px rgba(60, 64, 67, 0.3), 0px 1px 3px 1px rgba(60, 64, 67, 0.15);\n",
              "      fill: #174EA6;\n",
              "    }\n",
              "\n",
              "    [theme=dark] .colab-df-convert {\n",
              "      background-color: #3B4455;\n",
              "      fill: #D2E3FC;\n",
              "    }\n",
              "\n",
              "    [theme=dark] .colab-df-convert:hover {\n",
              "      background-color: #434B5C;\n",
              "      box-shadow: 0px 1px 3px 1px rgba(0, 0, 0, 0.15);\n",
              "      filter: drop-shadow(0px 1px 2px rgba(0, 0, 0, 0.3));\n",
              "      fill: #FFFFFF;\n",
              "    }\n",
              "  </style>\n",
              "\n",
              "      <script>\n",
              "        const buttonEl =\n",
              "          document.querySelector('#df-6ea22586-81f7-4e50-af5d-7b793fb5e2ba button.colab-df-convert');\n",
              "        buttonEl.style.display =\n",
              "          google.colab.kernel.accessAllowed ? 'block' : 'none';\n",
              "\n",
              "        async function convertToInteractive(key) {\n",
              "          const element = document.querySelector('#df-6ea22586-81f7-4e50-af5d-7b793fb5e2ba');\n",
              "          const dataTable =\n",
              "            await google.colab.kernel.invokeFunction('convertToInteractive',\n",
              "                                                     [key], {});\n",
              "          if (!dataTable) return;\n",
              "\n",
              "          const docLinkHtml = 'Like what you see? Visit the ' +\n",
              "            '<a target=\"_blank\" href=https://colab.research.google.com/notebooks/data_table.ipynb>data table notebook</a>'\n",
              "            + ' to learn more about interactive tables.';\n",
              "          element.innerHTML = '';\n",
              "          dataTable['output_type'] = 'display_data';\n",
              "          await google.colab.output.renderOutput(dataTable, element);\n",
              "          const docLink = document.createElement('div');\n",
              "          docLink.innerHTML = docLinkHtml;\n",
              "          element.appendChild(docLink);\n",
              "        }\n",
              "      </script>\n",
              "    </div>\n",
              "  </div>\n",
              "  "
            ]
          },
          "metadata": {},
          "execution_count": 500
        }
      ]
    },
    {
      "cell_type": "markdown",
      "source": [
        "#Handling Missing Values"
      ],
      "metadata": {
        "id": "6OXBodWTfd_5"
      }
    },
    {
      "cell_type": "code",
      "execution_count": 501,
      "metadata": {
        "colab": {
          "base_uri": "https://localhost:8080/",
          "height": 0
        },
        "id": "X6V4LtryQB2u",
        "outputId": "008598c9-f8fb-4659-a709-8643b4c6c5c0"
      },
      "outputs": [
        {
          "output_type": "execute_result",
          "data": {
            "text/plain": [
              "RowNumber          0\n",
              "CustomerId         0\n",
              "Surname            0\n",
              "CreditScore        0\n",
              "Geography          0\n",
              "Gender             0\n",
              "Age                0\n",
              "Tenure             0\n",
              "Balance            0\n",
              "NumOfProducts      0\n",
              "HasCrCard          0\n",
              "IsActiveMember     0\n",
              "EstimatedSalary    0\n",
              "Exited             0\n",
              "dtype: int64"
            ]
          },
          "metadata": {},
          "execution_count": 501
        }
      ],
      "source": [
        "#Check Missing Values In The Dataset\n",
        "df.isnull().sum()"
      ]
    },
    {
      "cell_type": "markdown",
      "source": [
        "#Remove Unneccesary column"
      ],
      "metadata": {
        "id": "NSmGSPPQfUW6"
      }
    },
    {
      "cell_type": "code",
      "source": [
        "df.drop(['RowNumber','NumOfProducts'],axis=1,inplace=True)"
      ],
      "metadata": {
        "id": "c8BrHiRvIsH-"
      },
      "execution_count": 502,
      "outputs": []
    },
    {
      "cell_type": "markdown",
      "source": [
        "#Visualization\n",
        "\n",
        "**With the help of bar chart we can check how many Male and Female present in 'Gender**"
      ],
      "metadata": {
        "id": "O2HoKYwGf20x"
      }
    },
    {
      "cell_type": "code",
      "source": [
        "df_Male = df[df['Gender']=='Male']\n",
        "df_Female = df[df['Gender']=='Female']\n",
        "df.Gender.value_counts().plot(kind = 'bar')\n",
        "plt.title(\"Barplot of Gender\")\n",
        "plt.ylabel(\"Count\")\n",
        "plt.xlabel(\"Gender\")"
      ],
      "metadata": {
        "colab": {
          "base_uri": "https://localhost:8080/",
          "height": 338
        },
        "id": "irzz6dBjJSbS",
        "outputId": "89402f05-913a-4c06-b196-4f1e540c2d50"
      },
      "execution_count": 503,
      "outputs": [
        {
          "output_type": "execute_result",
          "data": {
            "text/plain": [
              "Text(0.5, 0, 'Gender')"
            ]
          },
          "metadata": {},
          "execution_count": 503
        },
        {
          "output_type": "display_data",
          "data": {
            "text/plain": [
              "<Figure size 432x288 with 1 Axes>"
            ],
            "image/png": "[encoded data removed]"
          },
          "metadata": {}
        }
      ]
    },
    {
      "cell_type": "code",
      "source": [
        "df['Age'].hist(bins=30,color='#fc037b',alpha=0.7)\n",
        "plt.title(\"Histogram of Age\")\n",
        "plt.ylabel(\"Count\")\n",
        "plt.xlabel(\"Age\")"
      ],
      "metadata": {
        "colab": {
          "base_uri": "https://localhost:8080/",
          "height": 312
        },
        "id": "X6FplHW4KJQy",
        "outputId": "e24d3d2a-5e5c-4d05-bfa7-f1240084eaaa"
      },
      "execution_count": 504,
      "outputs": [
        {
          "output_type": "execute_result",
          "data": {
            "text/plain": [
              "Text(0.5, 0, 'Age')"
            ]
          },
          "metadata": {},
          "execution_count": 504
        },
        {
          "output_type": "display_data",
          "data": {
            "text/plain": [
              "<Figure size 432x288 with 1 Axes>"
            ],
            "image/png": "[encoded data removed]"
          },
          "metadata": {}
        }
      ]
    },
    {
      "cell_type": "code",
      "source": [
        "df.Exited.value_counts().plot(kind = 'bar',color='#a6755a')\n",
        "plt.title(\"Barplot of Age\")\n",
        "plt.ylabel(\"Count\")\n",
        "plt.xlabel(\"Exited\")"
      ],
      "metadata": {
        "colab": {
          "base_uri": "https://localhost:8080/",
          "height": 309
        },
        "id": "ujP0XHD2KJWK",
        "outputId": "3af06c88-3952-4f40-d296-198dbe473733"
      },
      "execution_count": 505,
      "outputs": [
        {
          "output_type": "execute_result",
          "data": {
            "text/plain": [
              "Text(0.5, 0, 'Exited')"
            ]
          },
          "metadata": {},
          "execution_count": 505
        },
        {
          "output_type": "display_data",
          "data": {
            "text/plain": [
              "<Figure size 432x288 with 1 Axes>"
            ],
            "image/png": "[encoded data removed]"
          },
          "metadata": {}
        }
      ]
    },
    {
      "cell_type": "code",
      "source": [
        "sns.set_style('whitegrid')\n",
        "sns.countplot(x='Exited',hue='Gender',data=df,palette='Pastel1')"
      ],
      "metadata": {
        "colab": {
          "base_uri": "https://localhost:8080/",
          "height": 296
        },
        "id": "jFbsE6oaKJah",
        "outputId": "76c75c81-e89c-4c66-a4a6-64bf1a98045a"
      },
      "execution_count": 506,
      "outputs": [
        {
          "output_type": "execute_result",
          "data": {
            "text/plain": [
              "<matplotlib.axes._subplots.AxesSubplot at 0x7fb0f1d4be10>"
            ]
          },
          "metadata": {},
          "execution_count": 506
        },
        {
          "output_type": "display_data",
          "data": {
            "text/plain": [
              "<Figure size 432x288 with 1 Axes>"
            ],
            "image/png": "[encoded data removed]"
          },
          "metadata": {}
        }
      ]
    },
    {
      "cell_type": "code",
      "source": [
        "sns.set_style('whitegrid')\n",
        "sns.countplot(x='Exited',hue='Age',data=df,palette='rainbow')"
      ],
      "metadata": {
        "colab": {
          "base_uri": "https://localhost:8080/",
          "height": 1152
        },
        "id": "E1W8Ot7yKJdh",
        "outputId": "057e82b6-b50f-4f3d-c2ad-732a53263ce7"
      },
      "execution_count": 507,
      "outputs": [
        {
          "output_type": "execute_result",
          "data": {
            "text/plain": [
              "<matplotlib.axes._subplots.AxesSubplot at 0x7fb0f1c9f7d0>"
            ]
          },
          "metadata": {},
          "execution_count": 507
        },
        {
          "output_type": "display_data",
          "data": {
            "text/plain": [
              "<Figure size 432x288 with 1 Axes>"
            ],
            "image/png": "[encoded data removed]"
          },
          "metadata": {}
        }
      ]
    },
    {
      "cell_type": "code",
      "source": [
        "sns.set_style('whitegrid')\n",
        "sns.countplot(x='Exited',hue='Geography',data=df,palette='hsv')"
      ],
      "metadata": {
        "colab": {
          "base_uri": "https://localhost:8080/",
          "height": 296
        },
        "id": "l3isLJ-IKJhA",
        "outputId": "37c40ace-3d95-4539-e507-a3596714761e"
      },
      "execution_count": 508,
      "outputs": [
        {
          "output_type": "execute_result",
          "data": {
            "text/plain": [
              "<matplotlib.axes._subplots.AxesSubplot at 0x7fb0f19a1290>"
            ]
          },
          "metadata": {},
          "execution_count": 508
        },
        {
          "output_type": "display_data",
          "data": {
            "text/plain": [
              "<Figure size 432x288 with 1 Axes>"
            ],
            "image/png": "[encoded data removed]"
          },
          "metadata": {}
        }
      ]
    },
    {
      "cell_type": "code",
      "source": [
        "labels = 'Exited', 'Retained'\n",
        "sizes = [df.Exited[df['Exited']==1].count(), df.Exited[df['Exited']==0].count()]\n",
        "explode = (0, 0.1)\n",
        "fig1, ax1 = plt.subplots(figsize=(10, 7))\n",
        "ax1.pie(sizes, explode=explode, labels=labels, autopct='%1.1f%%',\n",
        "shadow=True, startangle=90)\n",
        "ax1.axis('equal')\n",
        "plt.title(\"Proportion of customer churned and retained\", size = 18)\n",
        "plt.show()"
      ],
      "metadata": {
        "colab": {
          "base_uri": "https://localhost:8080/",
          "height": 431
        },
        "id": "LCNh3j6Yep6I",
        "outputId": "cf314ded-2ef7-4a6c-e77b-a8911500ba3b"
      },
      "execution_count": 509,
      "outputs": [
        {
          "output_type": "display_data",
          "data": {
            "text/plain": [
              "<Figure size 720x504 with 1 Axes>"
            ],
            "image/png": "[encoded data removed]"
          },
          "metadata": {}
        }
      ]
    },
    {
      "cell_type": "markdown",
      "source": [
        "# Removing Outliers"
      ],
      "metadata": {
        "id": "uNCIDe0vfB2c"
      }
    },
    {
      "cell_type": "code",
      "execution_count": 510,
      "metadata": {
        "id": "KHk_hOTbQKS1",
        "colab": {
          "base_uri": "https://localhost:8080/",
          "height": 296
        },
        "outputId": "25500cf7-b834-4e93-bb7b-3a47c9632d9f"
      },
      "outputs": [
        {
          "output_type": "execute_result",
          "data": {
            "text/plain": [
              "<matplotlib.axes._subplots.AxesSubplot at 0x7fb0f1994c90>"
            ]
          },
          "metadata": {},
          "execution_count": 510
        },
        {
          "output_type": "display_data",
          "data": {
            "text/plain": [
              "<Figure size 432x288 with 1 Axes>"
            ],
            "image/png": "[encoded data removed]"
          },
          "metadata": {}
        }
      ],
      "source": [
        "sns.boxplot(df['Exited'])"
      ]
    },
    {
      "cell_type": "code",
      "source": [
        "sns.boxplot(df['Age'])"
      ],
      "metadata": {
        "id": "nTWA_xNI_IVh",
        "colab": {
          "base_uri": "https://localhost:8080/",
          "height": 296
        },
        "outputId": "2f35ff9d-c70c-4397-d73d-11d84863ddbb"
      },
      "execution_count": 511,
      "outputs": [
        {
          "output_type": "execute_result",
          "data": {
            "text/plain": [
              "<matplotlib.axes._subplots.AxesSubplot at 0x7fb0f18fd490>"
            ]
          },
          "metadata": {},
          "execution_count": 511
        },
        {
          "output_type": "display_data",
          "data": {
            "text/plain": [
              "<Figure size 432x288 with 1 Axes>"
            ],
            "image/png": "[encoded data removed]"
          },
          "metadata": {}
        }
      ]
    },
    {
      "cell_type": "code",
      "source": [
        "np.where(df['Age']>60)"
      ],
      "metadata": {
        "colab": {
          "base_uri": "https://localhost:8080/",
          "height": 0
        },
        "id": "rFmmV4K5_NZl",
        "outputId": "d44099e6-9ed8-4336-a3de-370da8f46115"
      },
      "execution_count": 512,
      "outputs": [
        {
          "output_type": "execute_result",
          "data": {
            "text/plain": [
              "(array([  42,   44,   58,   85,  104,  158,  181,  230,  234,  243,  252,\n",
              "         276,  310,  364,  371,  385,  387,  399,  416,  484,  538,  559,\n",
              "         561,  567,  602,  612,  617,  630,  658,  678,  696,  736,  766,\n",
              "         769,  807,  811,  823,  859,  884,  888,  921,  928,  948,  952,\n",
              "         957,  963,  969,  997, 1009, 1039, 1040, 1055, 1114, 1118, 1192,\n",
              "        1205, 1234, 1235, 1246, 1252, 1278, 1285, 1328, 1342, 1387, 1407,\n",
              "        1410, 1433, 1439, 1457, 1519, 1543, 1588, 1607, 1614, 1642, 1790,\n",
              "        1810, 1858, 1866, 1901, 1904, 1907, 1933, 1981, 1996, 2002, 2012,\n",
              "        2039, 2053, 2078, 2094, 2103, 2108, 2154, 2159, 2164, 2244, 2261,\n",
              "        2274, 2298, 2301, 2433, 2438, 2458, 2459, 2519, 2520, 2533, 2541,\n",
              "        2553, 2599, 2615, 2659, 2670, 2713, 2717, 2760, 2772, 2777, 2778,\n",
              "        2781, 2791, 2855, 2877, 2901, 2908, 2925, 2926, 3008, 3033, 3054,\n",
              "        3110, 3142, 3166, 3192, 3203, 3229, 3305, 3308, 3311, 3314, 3317,\n",
              "        3346, 3366, 3368, 3378, 3382, 3384, 3387, 3396, 3403, 3434, 3462,\n",
              "        3497, 3499, 3527, 3531, 3541, 3549, 3559, 3563, 3573, 3575, 3593,\n",
              "        3602, 3641, 3646, 3647, 3651, 3690, 3691, 3702, 3719, 3728, 3733,\n",
              "        3761, 3774, 3813, 3826, 3880, 3881, 3888, 3909, 3910, 3927, 3940,\n",
              "        3947, 3980, 3994, 4010, 4025, 4048, 4051, 4095, 4142, 4147, 4157,\n",
              "        4162, 4170, 4241, 4244, 4256, 4273, 4280, 4297, 4313, 4318, 4335,\n",
              "        4360, 4366, 4378, 4387, 4396, 4435, 4438, 4463, 4490, 4491, 4501,\n",
              "        4506, 4559, 4563, 4590, 4595, 4644, 4678, 4698, 4747, 4751, 4801,\n",
              "        4815, 4832, 4849, 4931, 4947, 4966, 4992, 5000, 5020, 5033, 5038,\n",
              "        5068, 5132, 5136, 5148, 5159, 5197, 5223, 5225, 5235, 5255, 5299,\n",
              "        5313, 5368, 5377, 5405, 5439, 5457, 5490, 5508, 5514, 5520, 5576,\n",
              "        5577, 5581, 5639, 5651, 5655, 5660, 5664, 5671, 5683, 5698, 5742,\n",
              "        5777, 5783, 5817, 5825, 5840, 5867, 5907, 5957, 5996, 6046, 6116,\n",
              "        6152, 6166, 6167, 6171, 6173, 6212, 6230, 6278, 6289, 6315, 6357,\n",
              "        6366, 6373, 6375, 6410, 6443, 6515, 6530, 6532, 6581, 6612, 6626,\n",
              "        6706, 6709, 6715, 6721, 6759, 6763, 6812, 6899, 6970, 6997, 7008,\n",
              "        7057, 7058, 7063, 7071, 7078, 7094, 7138, 7139, 7142, 7156, 7194,\n",
              "        7202, 7238, 7243, 7272, 7302, 7362, 7375, 7392, 7499, 7514, 7523,\n",
              "        7526, 7548, 7552, 7623, 7624, 7629, 7668, 7687, 7692, 7694, 7709,\n",
              "        7715, 7719, 7720, 7727, 7773, 7776, 7784, 7788, 7802, 7813, 7851,\n",
              "        7894, 7898, 7909, 7933, 7956, 7995, 8019, 8037, 8094, 8098, 8156,\n",
              "        8170, 8193, 8207, 8215, 8217, 8304, 8321, 8385, 8394, 8444, 8458,\n",
              "        8467, 8469, 8478, 8488, 8562, 8568, 8577, 8602, 8674, 8686, 8689,\n",
              "        8711, 8759, 8761, 8763, 8768, 8787, 8793, 8822, 8865, 8900, 8917,\n",
              "        8930, 8970, 9018, 9021, 9062, 9080, 9102, 9112, 9116, 9162, 9174,\n",
              "        9223, 9261, 9279, 9284, 9292, 9309, 9318, 9321, 9324, 9332, 9333,\n",
              "        9351, 9380, 9391, 9402, 9425, 9428, 9438, 9472, 9490, 9506, 9555,\n",
              "        9557, 9582, 9587, 9589, 9593, 9595, 9646, 9671, 9673, 9681, 9686,\n",
              "        9688, 9718, 9733, 9734, 9736, 9747, 9753, 9765, 9832, 9879, 9894,\n",
              "        9897, 9936]),)"
            ]
          },
          "metadata": {},
          "execution_count": 512
        }
      ]
    },
    {
      "cell_type": "code",
      "source": [
        "df.drop([42,   44,   58,   85,  104,  158,  181,  230,  234,  243,  252,\n",
        "         276,  310,  364,  371,  385,  387,  399,  416,  484,  538,  559,\n",
        "         561,  567,  602,  612,  617,  630,  658,  678,  696,  736,  766,\n",
        "         769,  807,  811,  823,  859,  884,  888,  921,  928,  948,  952,\n",
        "         957,  963,  969,  997, 1009, 1039, 1040, 1055, 1114, 1118, 1192,\n",
        "        1205, 1234, 1235, 1246, 1252, 1278, 1285, 1328, 1342, 1387, 1407,\n",
        "        1410, 1433, 1439, 1457, 1519, 1543, 1588, 1607, 1614, 1642, 1790,\n",
        "        1810, 1858, 1866, 1901, 1904, 1907, 1933, 1981, 1996, 2002, 2012,\n",
        "        2039, 2053, 2078, 2094, 2103, 2108, 2154, 2159, 2164, 2244, 2261,\n",
        "        2274, 2298, 2301, 2433, 2438, 2458, 2459, 2519, 2520, 2533, 2541,\n",
        "        2553, 2599, 2615, 2659, 2670, 2713, 2717, 2760, 2772, 2777, 2778,\n",
        "        2781, 2791, 2855, 2877, 2901, 2908, 2925, 2926, 3008, 3033, 3054,\n",
        "        3110, 3142, 3166, 3192, 3203, 3229, 3305, 3308, 3311, 3314, 3317,\n",
        "        3346, 3366, 3368, 3378, 3382, 3384, 3387, 3396, 3403, 3434, 3462,\n",
        "        3497, 3499, 3527, 3531, 3541, 3549, 3559, 3563, 3573, 3575, 3593,\n",
        "        3602, 3641, 3646, 3647, 3651, 3690, 3691, 3702, 3719, 3728, 3733,\n",
        "        3761, 3774, 3813, 3826, 3880, 3881, 3888, 3909, 3910, 3927, 3940,\n",
        "        3947, 3980, 3994, 4010, 4025, 4048, 4051, 4095, 4142, 4147, 4157,\n",
        "        4162, 4170, 4241, 4244, 4256, 4273, 4280, 4297, 4313, 4318, 4335,\n",
        "        4360, 4366, 4378, 4387, 4396, 4435, 4438, 4463, 4490, 4491, 4501,\n",
        "        4506, 4559, 4563, 4590, 4595, 4644, 4678, 4698, 4747, 4751, 4801,\n",
        "        4815, 4832, 4849, 4931, 4947, 4966, 4992, 5000, 5020, 5033, 5038,\n",
        "        5068, 5132, 5136, 5148, 5159, 5197, 5223, 5225, 5235, 5255, 5299,\n",
        "        5313, 5368, 5377, 5405, 5439, 5457, 5490, 5508, 5514, 5520, 5576,\n",
        "        5577, 5581, 5639, 5651, 5655, 5660, 5664, 5671, 5683, 5698, 5742,\n",
        "        5777, 5783, 5817, 5825, 5840, 5867, 5907, 5957, 5996, 6046, 6116,\n",
        "        6152, 6166, 6167, 6171, 6173, 6212, 6230, 6278, 6289, 6315, 6357,\n",
        "        6366, 6373, 6375, 6410, 6443, 6515, 6530, 6532, 6581, 6612, 6626,\n",
        "        6706, 6709, 6715, 6721, 6759, 6763, 6812, 6899, 6970, 6997, 7008,\n",
        "        7057, 7058, 7063, 7071, 7078, 7094, 7138, 7139, 7142, 7156, 7194,\n",
        "        7202, 7238, 7243, 7272, 7302, 7362, 7375, 7392, 7499, 7514, 7523,\n",
        "        7526, 7548, 7552, 7623, 7624, 7629, 7668, 7687, 7692, 7694, 7709,\n",
        "        7715, 7719, 7720, 7727, 7773, 7776, 7784, 7788, 7802, 7813, 7851,\n",
        "        7894, 7898, 7909, 7933, 7956, 7995, 8019, 8037, 8094, 8098, 8156,\n",
        "        8170, 8193, 8207, 8215, 8217, 8304, 8321, 8385, 8394, 8444, 8458,\n",
        "        8467, 8469, 8478, 8488, 8562, 8568, 8577, 8602, 8674, 8686, 8689,\n",
        "        8711, 8759, 8761, 8763, 8768, 8787, 8793, 8822, 8865, 8900, 8917,\n",
        "        8930, 8970, 9018, 9021, 9062, 9080, 9102, 9112, 9116, 9162, 9174,\n",
        "        9223, 9261, 9279, 9284, 9292, 9309, 9318, 9321, 9324, 9332, 9333,\n",
        "        9351, 9380, 9391, 9402, 9425, 9428, 9438, 9472, 9490, 9506, 9555,\n",
        "        9557, 9582, 9587, 9589, 9593, 9595, 9646, 9671, 9673, 9681, 9686,\n",
        "        9688, 9718, 9733, 9734, 9736, 9747, 9753, 9765, 9832, 9879, 9894,\n",
        "        9897, 9936],inplace=True)"
      ],
      "metadata": {
        "id": "s2safzrj_7fd"
      },
      "execution_count": 513,
      "outputs": []
    },
    {
      "cell_type": "code",
      "source": [
        "sns.boxplot(df['Age'])"
      ],
      "metadata": {
        "colab": {
          "base_uri": "https://localhost:8080/",
          "height": 296
        },
        "id": "LeDOJYUqCDsh",
        "outputId": "db2cd91b-7f98-4be1-fb49-61eb8b75604b"
      },
      "execution_count": 514,
      "outputs": [
        {
          "output_type": "execute_result",
          "data": {
            "text/plain": [
              "<matplotlib.axes._subplots.AxesSubplot at 0x7fb0f186e610>"
            ]
          },
          "metadata": {},
          "execution_count": 514
        },
        {
          "output_type": "display_data",
          "data": {
            "text/plain": [
              "<Figure size 432x288 with 1 Axes>"
            ],
            "image/png": "[encoded data removed]"
          },
          "metadata": {}
        }
      ]
    },
    {
      "cell_type": "code",
      "source": [
        "sns.boxplot(df['IsActiveMember'])\n"
      ],
      "metadata": {
        "colab": {
          "base_uri": "https://localhost:8080/",
          "height": 296
        },
        "id": "fbzkQNPkMnmC",
        "outputId": "bca81a17-74dd-40c5-ff80-a011c7f5464f"
      },
      "execution_count": 515,
      "outputs": [
        {
          "output_type": "execute_result",
          "data": {
            "text/plain": [
              "<matplotlib.axes._subplots.AxesSubplot at 0x7fb0f17d86d0>"
            ]
          },
          "metadata": {},
          "execution_count": 515
        },
        {
          "output_type": "display_data",
          "data": {
            "text/plain": [
              "<Figure size 432x288 with 1 Axes>"
            ],
            "image/png": "[encoded data removed]"
          },
          "metadata": {}
        }
      ]
    },
    {
      "cell_type": "code",
      "source": [
        "sns.boxplot(df['Tenure'])"
      ],
      "metadata": {
        "colab": {
          "base_uri": "https://localhost:8080/",
          "height": 296
        },
        "id": "H9MIi_GoMnzS",
        "outputId": "d4006f1b-fcbf-4d90-f2fa-8ea9b7e378e8"
      },
      "execution_count": 516,
      "outputs": [
        {
          "output_type": "execute_result",
          "data": {
            "text/plain": [
              "<matplotlib.axes._subplots.AxesSubplot at 0x7fb0f174ee90>"
            ]
          },
          "metadata": {},
          "execution_count": 516
        },
        {
          "output_type": "display_data",
          "data": {
            "text/plain": [
              "<Figure size 432x288 with 1 Axes>"
            ],
            "image/png": "[encoded data removed]"
          },
          "metadata": {}
        }
      ]
    },
    {
      "cell_type": "code",
      "source": [
        "sns.boxplot(df['EstimatedSalary'])"
      ],
      "metadata": {
        "colab": {
          "base_uri": "https://localhost:8080/",
          "height": 296
        },
        "id": "MMT_mqsuMn5R",
        "outputId": "31280a1f-a2ac-4410-a540-40b9d6a94d16"
      },
      "execution_count": 517,
      "outputs": [
        {
          "output_type": "execute_result",
          "data": {
            "text/plain": [
              "<matplotlib.axes._subplots.AxesSubplot at 0x7fb0f1706910>"
            ]
          },
          "metadata": {},
          "execution_count": 517
        },
        {
          "output_type": "display_data",
          "data": {
            "text/plain": [
              "<Figure size 432x288 with 1 Axes>"
            ],
            "image/png": "[encoded data removed]"
          },
          "metadata": {}
        }
      ]
    },
    {
      "cell_type": "code",
      "source": [
        "\n",
        "sns.boxplot(df['HasCrCard'])"
      ],
      "metadata": {
        "colab": {
          "base_uri": "https://localhost:8080/",
          "height": 296
        },
        "id": "GqFGvvCjMn8R",
        "outputId": "6fae4fde-d980-4c22-c5f7-2e44af11a941"
      },
      "execution_count": 518,
      "outputs": [
        {
          "output_type": "execute_result",
          "data": {
            "text/plain": [
              "<matplotlib.axes._subplots.AxesSubplot at 0x7fb0f1685ad0>"
            ]
          },
          "metadata": {},
          "execution_count": 518
        },
        {
          "output_type": "display_data",
          "data": {
            "text/plain": [
              "<Figure size 432x288 with 1 Axes>"
            ],
            "image/png": "[encoded data removed]"
          },
          "metadata": {}
        }
      ]
    },
    {
      "cell_type": "markdown",
      "source": [
        "# Handling Imbalanced Data using Resampling technique"
      ],
      "metadata": {
        "id": "MW_BN1Jpg0sK"
      }
    },
    {
      "cell_type": "code",
      "source": [
        "#The target variable i.e Exited has an uneven distribution of observations, i.e one class label has a very high number of observations and the other has a very low number of observations. \n",
        "df['Exited'].value_counts()"
      ],
      "metadata": {
        "colab": {
          "base_uri": "https://localhost:8080/",
          "height": 0
        },
        "id": "o9M3b-L4Mn_Q",
        "outputId": "5f22662c-e07e-40a5-effc-555a2990b515"
      },
      "execution_count": 519,
      "outputs": [
        {
          "output_type": "execute_result",
          "data": {
            "text/plain": [
              "0    7614\n",
              "1    1922\n",
              "Name: Exited, dtype: int64"
            ]
          },
          "metadata": {},
          "execution_count": 519
        }
      ]
    },
    {
      "cell_type": "code",
      "source": [
        "from sklearn.utils import resample\n",
        "#create two different dataframe of majority and minority class \n",
        "df_majority = df[(df['Exited']==0)] \n",
        "df_minority = df[(df['Exited']==1)] \n",
        "# upsample minority class\n",
        "df_minority_upsampled = resample(df_minority, \n",
        "                                 replace=True,    # sample with replacement\n",
        "                                 n_samples= 7614, # to match majority class\n",
        "                                 random_state=42)  # reproducible results\n",
        "# Combine majority class with upsampled minority class\n",
        "df_upsampled = pd.concat([df_minority_upsampled, df_majority])"
      ],
      "metadata": {
        "id": "EHyPwt1PgtU9"
      },
      "execution_count": 520,
      "outputs": []
    },
    {
      "cell_type": "code",
      "source": [
        "df_upsampled['Exited'].value_counts()"
      ],
      "metadata": {
        "colab": {
          "base_uri": "https://localhost:8080/",
          "height": 0
        },
        "id": "Fz4OLfZOicDP",
        "outputId": "bf705c69-9945-4915-ea73-c6194690dece"
      },
      "execution_count": 521,
      "outputs": [
        {
          "output_type": "execute_result",
          "data": {
            "text/plain": [
              "1    7614\n",
              "0    7614\n",
              "Name: Exited, dtype: int64"
            ]
          },
          "metadata": {},
          "execution_count": 521
        }
      ]
    },
    {
      "cell_type": "markdown",
      "source": [
        "#Scaling\n",
        "\n",
        "Specifically, in the case of Neural Networks Algorithms, feature scaling benefits optimization by: It makes the training faster. It prevents the optimization from getting stuck in local optima. It gives a better error surface shape."
      ],
      "metadata": {
        "id": "g9c8oVvzQHJ2"
      }
    },
    {
      "cell_type": "code",
      "source": [
        "num_col=df[['CustomerId','CreditScore','Age','Balance','EstimatedSalary']]\n",
        "num=df[['Tenure','HasCrCard','IsActiveMember','Exited']]\n",
        "cat_col=df.select_dtypes(\"object\").columns.to_list()"
      ],
      "metadata": {
        "id": "v5RyPvvCI6BV"
      },
      "execution_count": 522,
      "outputs": []
    },
    {
      "cell_type": "code",
      "source": [
        "from sklearn.preprocessing import StandardScaler\n",
        "import warnings\n",
        "warnings.filterwarnings('ignore')"
      ],
      "metadata": {
        "id": "Uo_rEff05Dlv"
      },
      "execution_count": 523,
      "outputs": []
    },
    {
      "cell_type": "code",
      "source": [
        "scaler=StandardScaler()\n",
        "num_col[:]=scaler.fit_transform(num_col[:])\n",
        "num_col.head()"
      ],
      "metadata": {
        "colab": {
          "base_uri": "https://localhost:8080/",
          "height": 206
        },
        "id": "ADPEK3rOLcxu",
        "outputId": "edaaabb2-f836-4c7c-fc90-cda6c1c07aaf"
      },
      "execution_count": 524,
      "outputs": [
        {
          "output_type": "execute_result",
          "data": {
            "text/plain": [
              "   CustomerId  CreditScore       Age   Balance  EstimatedSalary\n",
              "0   -0.783438    -0.324216  0.526407 -1.225731         0.020225\n",
              "1   -0.606709    -0.438038  0.408623  0.116704         0.214873\n",
              "2   -0.996170    -1.534861  0.526407  1.331717         0.239027\n",
              "3    0.144805     0.503575  0.173056 -1.225731        -0.110581\n",
              "4    0.652841     2.066030  0.644190  0.784702        -0.366940"
            ],
            "text/html": [
              "\n",
              "  <div id=\"df-1afb6240-635b-414b-ba05-44bf7cf37581\">\n",
              "    <div class=\"colab-df-container\">\n",
              "      <div>\n",
              "<style scoped>\n",
              "    .dataframe tbody tr th:only-of-type {\n",
              "        vertical-align: middle;\n",
              "    }\n",
              "\n",
              "    .dataframe tbody tr th {\n",
              "        vertical-align: top;\n",
              "    }\n",
              "\n",
              "    .dataframe thead th {\n",
              "        text-align: right;\n",
              "    }\n",
              "</style>\n",
              "<table border=\"1\" class=\"dataframe\">\n",
              "  <thead>\n",
              "    <tr style=\"text-align: right;\">\n",
              "      <th></th>\n",
              "      <th>CustomerId</th>\n",
              "      <th>CreditScore</th>\n",
              "      <th>Age</th>\n",
              "      <th>Balance</th>\n",
              "      <th>EstimatedSalary</th>\n",
              "    </tr>\n",
              "  </thead>\n",
              "  <tbody>\n",
              "    <tr>\n",
              "      <th>0</th>\n",
              "      <td>-0.783438</td>\n",
              "      <td>-0.324216</td>\n",
              "      <td>0.526407</td>\n",
              "      <td>-1.225731</td>\n",
              "      <td>0.020225</td>\n",
              "    </tr>\n",
              "    <tr>\n",
              "      <th>1</th>\n",
              "      <td>-0.606709</td>\n",
              "      <td>-0.438038</td>\n",
              "      <td>0.408623</td>\n",
              "      <td>0.116704</td>\n",
              "      <td>0.214873</td>\n",
              "    </tr>\n",
              "    <tr>\n",
              "      <th>2</th>\n",
              "      <td>-0.996170</td>\n",
              "      <td>-1.534861</td>\n",
              "      <td>0.526407</td>\n",
              "      <td>1.331717</td>\n",
              "      <td>0.239027</td>\n",
              "    </tr>\n",
              "    <tr>\n",
              "      <th>3</th>\n",
              "      <td>0.144805</td>\n",
              "      <td>0.503575</td>\n",
              "      <td>0.173056</td>\n",
              "      <td>-1.225731</td>\n",
              "      <td>-0.110581</td>\n",
              "    </tr>\n",
              "    <tr>\n",
              "      <th>4</th>\n",
              "      <td>0.652841</td>\n",
              "      <td>2.066030</td>\n",
              "      <td>0.644190</td>\n",
              "      <td>0.784702</td>\n",
              "      <td>-0.366940</td>\n",
              "    </tr>\n",
              "  </tbody>\n",
              "</table>\n",
              "</div>\n",
              "      <button class=\"colab-df-convert\" onclick=\"convertToInteractive('df-1afb6240-635b-414b-ba05-44bf7cf37581')\"\n",
              "              title=\"Convert this dataframe to an interactive table.\"\n",
              "              style=\"display:none;\">\n",
              "        \n",
              "  <svg xmlns=\"http://www.w3.org/2000/svg\" height=\"24px\"viewBox=\"0 0 24 24\"\n",
              "       width=\"24px\">\n",
              "    <path d=\"M0 0h24v24H0V0z\" fill=\"none\"/>\n",
              "    <path d=\"M18.56 5.44l.94 2.06.94-2.06 2.06-.94-2.06-.94-.94-2.06-.94 2.06-2.06.94zm-11 1L8.5 8.5l.94-2.06 2.06-.94-2.06-.94L8.5 2.5l-.94 2.06-2.06.94zm10 10l.94 2.06.94-2.06 2.06-.94-2.06-.94-.94-2.06-.94 2.06-2.06.94z\"/><path d=\"M17.41 7.96l-1.37-1.37c-.4-.4-.92-.59-1.43-.59-.52 0-1.04.2-1.43.59L10.3 9.45l-7.72 7.72c-.78.78-.78 2.05 0 2.83L4 21.41c.39.39.9.59 1.41.59.51 0 1.02-.2 1.41-.59l7.78-7.78 2.81-2.81c.8-.78.8-2.07 0-2.86zM5.41 20L4 18.59l7.72-7.72 1.47 1.35L5.41 20z\"/>\n",
              "  </svg>\n",
              "      </button>\n",
              "      \n",
              "  <style>\n",
              "    .colab-df-container {\n",
              "      display:flex;\n",
              "      flex-wrap:wrap;\n",
              "      gap: 12px;\n",
              "    }\n",
              "\n",
              "    .colab-df-convert {\n",
              "      background-color: #E8F0FE;\n",
              "      border: none;\n",
              "      border-radius: 50%;\n",
              "      cursor: pointer;\n",
              "      display: none;\n",
              "      fill: #1967D2;\n",
              "      height: 32px;\n",
              "      padding: 0 0 0 0;\n",
              "      width: 32px;\n",
              "    }\n",
              "\n",
              "    .colab-df-convert:hover {\n",
              "      background-color: #E2EBFA;\n",
              "      box-shadow: 0px 1px 2px rgba(60, 64, 67, 0.3), 0px 1px 3px 1px rgba(60, 64, 67, 0.15);\n",
              "      fill: #174EA6;\n",
              "    }\n",
              "\n",
              "    [theme=dark] .colab-df-convert {\n",
              "      background-color: #3B4455;\n",
              "      fill: #D2E3FC;\n",
              "    }\n",
              "\n",
              "    [theme=dark] .colab-df-convert:hover {\n",
              "      background-color: #434B5C;\n",
              "      box-shadow: 0px 1px 3px 1px rgba(0, 0, 0, 0.15);\n",
              "      filter: drop-shadow(0px 1px 2px rgba(0, 0, 0, 0.3));\n",
              "      fill: #FFFFFF;\n",
              "    }\n",
              "  </style>\n",
              "\n",
              "      <script>\n",
              "        const buttonEl =\n",
              "          document.querySelector('#df-1afb6240-635b-414b-ba05-44bf7cf37581 button.colab-df-convert');\n",
              "        buttonEl.style.display =\n",
              "          google.colab.kernel.accessAllowed ? 'block' : 'none';\n",
              "\n",
              "        async function convertToInteractive(key) {\n",
              "          const element = document.querySelector('#df-1afb6240-635b-414b-ba05-44bf7cf37581');\n",
              "          const dataTable =\n",
              "            await google.colab.kernel.invokeFunction('convertToInteractive',\n",
              "                                                     [key], {});\n",
              "          if (!dataTable) return;\n",
              "\n",
              "          const docLinkHtml = 'Like what you see? Visit the ' +\n",
              "            '<a target=\"_blank\" href=https://colab.research.google.com/notebooks/data_table.ipynb>data table notebook</a>'\n",
              "            + ' to learn more about interactive tables.';\n",
              "          element.innerHTML = '';\n",
              "          dataTable['output_type'] = 'display_data';\n",
              "          await google.colab.output.renderOutput(dataTable, element);\n",
              "          const docLink = document.createElement('div');\n",
              "          docLink.innerHTML = docLinkHtml;\n",
              "          element.appendChild(docLink);\n",
              "        }\n",
              "      </script>\n",
              "    </div>\n",
              "  </div>\n",
              "  "
            ]
          },
          "metadata": {},
          "execution_count": 524
        }
      ]
    },
    {
      "cell_type": "markdown",
      "source": [
        "# Encoding\n",
        "Machine Learning model is understand only numeric value so categorical value must be converted into numeric value. \n",
        "In our dataset we have a categorical column like 'Geography' , 'Surname' and 'Gender'."
      ],
      "metadata": {
        "id": "-Sw0D8lRPv02"
      }
    },
    {
      "cell_type": "code",
      "source": [
        "df['Geography'].unique() # This Geography column contain 3 categories like 'France', 'Spain', 'Germany"
      ],
      "metadata": {
        "colab": {
          "base_uri": "https://localhost:8080/",
          "height": 0
        },
        "id": "hZzv7ljQQReW",
        "outputId": "bc40ddec-9d9f-493a-989b-bdc9cd38c7b7"
      },
      "execution_count": 525,
      "outputs": [
        {
          "output_type": "execute_result",
          "data": {
            "text/plain": [
              "array(['France', 'Spain', 'Germany'], dtype=object)"
            ]
          },
          "metadata": {},
          "execution_count": 525
        }
      ]
    },
    {
      "cell_type": "code",
      "source": [
        "df['Gender'].unique() # This Gender column contain 2 categories like 'Male' & 'Female'"
      ],
      "metadata": {
        "colab": {
          "base_uri": "https://localhost:8080/",
          "height": 0
        },
        "id": "_d5xbrtYQRoC",
        "outputId": "61f82b89-9c65-4220-fb39-afae45155b03"
      },
      "execution_count": 526,
      "outputs": [
        {
          "output_type": "execute_result",
          "data": {
            "text/plain": [
              "array(['Female', 'Male'], dtype=object)"
            ]
          },
          "metadata": {},
          "execution_count": 526
        }
      ]
    },
    {
      "cell_type": "code",
      "source": [
        "X_cat=pd.get_dummies(df[cat_col])\n",
        "X_cat.head()\n"
      ],
      "metadata": {
        "colab": {
          "base_uri": "https://localhost:8080/",
          "height": 299
        },
        "id": "YiLP6cinG2qd",
        "outputId": "c47e264a-001f-43cd-98de-b27ed0fea82a"
      },
      "execution_count": 527,
      "outputs": [
        {
          "output_type": "execute_result",
          "data": {
            "text/plain": [
              "   Surname_Abazu  Surname_Abbie  Surname_Abbott  Surname_Abdullah  \\\n",
              "0              0              0               0                 0   \n",
              "1              0              0               0                 0   \n",
              "2              0              0               0                 0   \n",
              "3              0              0               0                 0   \n",
              "4              0              0               0                 0   \n",
              "\n",
              "   Surname_Abdulov  Surname_Abel  Surname_Abernathy  Surname_Abramov  \\\n",
              "0                0             0                  0                0   \n",
              "1                0             0                  0                0   \n",
              "2                0             0                  0                0   \n",
              "3                0             0                  0                0   \n",
              "4                0             0                  0                0   \n",
              "\n",
              "   Surname_Abramova  Surname_Abramovich  ...  Surname_Zubarev  \\\n",
              "0                 0                   0  ...                0   \n",
              "1                 0                   0  ...                0   \n",
              "2                 0                   0  ...                0   \n",
              "3                 0                   0  ...                0   \n",
              "4                 0                   0  ...                0   \n",
              "\n",
              "   Surname_Zubareva  Surname_Zuev  Surname_Zuyev  Surname_Zuyeva  \\\n",
              "0                 0             0              0               0   \n",
              "1                 0             0              0               0   \n",
              "2                 0             0              0               0   \n",
              "3                 0             0              0               0   \n",
              "4                 0             0              0               0   \n",
              "\n",
              "   Geography_France  Geography_Germany  Geography_Spain  Gender_Female  \\\n",
              "0                 1                  0                0              1   \n",
              "1                 0                  0                1              1   \n",
              "2                 1                  0                0              1   \n",
              "3                 1                  0                0              1   \n",
              "4                 0                  0                1              1   \n",
              "\n",
              "   Gender_Male  \n",
              "0            0  \n",
              "1            0  \n",
              "2            0  \n",
              "3            0  \n",
              "4            0  \n",
              "\n",
              "[5 rows x 2861 columns]"
            ],
            "text/html": [
              "\n",
              "  <div id=\"df-9fbcb2cb-6f18-4d38-a321-d68661b391a2\">\n",
              "    <div class=\"colab-df-container\">\n",
              "      <div>\n",
              "<style scoped>\n",
              "    .dataframe tbody tr th:only-of-type {\n",
              "        vertical-align: middle;\n",
              "    }\n",
              "\n",
              "    .dataframe tbody tr th {\n",
              "        vertical-align: top;\n",
              "    }\n",
              "\n",
              "    .dataframe thead th {\n",
              "        text-align: right;\n",
              "    }\n",
              "</style>\n",
              "<table border=\"1\" class=\"dataframe\">\n",
              "  <thead>\n",
              "    <tr style=\"text-align: right;\">\n",
              "      <th></th>\n",
              "      <th>Surname_Abazu</th>\n",
              "      <th>Surname_Abbie</th>\n",
              "      <th>Surname_Abbott</th>\n",
              "      <th>Surname_Abdullah</th>\n",
              "      <th>Surname_Abdulov</th>\n",
              "      <th>Surname_Abel</th>\n",
              "      <th>Surname_Abernathy</th>\n",
              "      <th>Surname_Abramov</th>\n",
              "      <th>Surname_Abramova</th>\n",
              "      <th>Surname_Abramovich</th>\n",
              "      <th>...</th>\n",
              "      <th>Surname_Zubarev</th>\n",
              "      <th>Surname_Zubareva</th>\n",
              "      <th>Surname_Zuev</th>\n",
              "      <th>Surname_Zuyev</th>\n",
              "      <th>Surname_Zuyeva</th>\n",
              "      <th>Geography_France</th>\n",
              "      <th>Geography_Germany</th>\n",
              "      <th>Geography_Spain</th>\n",
              "      <th>Gender_Female</th>\n",
              "      <th>Gender_Male</th>\n",
              "    </tr>\n",
              "  </thead>\n",
              "  <tbody>\n",
              "    <tr>\n",
              "      <th>0</th>\n",
              "      <td>0</td>\n",
              "      <td>0</td>\n",
              "      <td>0</td>\n",
              "      <td>0</td>\n",
              "      <td>0</td>\n",
              "      <td>0</td>\n",
              "      <td>0</td>\n",
              "      <td>0</td>\n",
              "      <td>0</td>\n",
              "      <td>0</td>\n",
              "      <td>...</td>\n",
              "      <td>0</td>\n",
              "      <td>0</td>\n",
              "      <td>0</td>\n",
              "      <td>0</td>\n",
              "      <td>0</td>\n",
              "      <td>1</td>\n",
              "      <td>0</td>\n",
              "      <td>0</td>\n",
              "      <td>1</td>\n",
              "      <td>0</td>\n",
              "    </tr>\n",
              "    <tr>\n",
              "      <th>1</th>\n",
              "      <td>0</td>\n",
              "      <td>0</td>\n",
              "      <td>0</td>\n",
              "      <td>0</td>\n",
              "      <td>0</td>\n",
              "      <td>0</td>\n",
              "      <td>0</td>\n",
              "      <td>0</td>\n",
              "      <td>0</td>\n",
              "      <td>0</td>\n",
              "      <td>...</td>\n",
              "      <td>0</td>\n",
              "      <td>0</td>\n",
              "      <td>0</td>\n",
              "      <td>0</td>\n",
              "      <td>0</td>\n",
              "      <td>0</td>\n",
              "      <td>0</td>\n",
              "      <td>1</td>\n",
              "      <td>1</td>\n",
              "      <td>0</td>\n",
              "    </tr>\n",
              "    <tr>\n",
              "      <th>2</th>\n",
              "      <td>0</td>\n",
              "      <td>0</td>\n",
              "      <td>0</td>\n",
              "      <td>0</td>\n",
              "      <td>0</td>\n",
              "      <td>0</td>\n",
              "      <td>0</td>\n",
              "      <td>0</td>\n",
              "      <td>0</td>\n",
              "      <td>0</td>\n",
              "      <td>...</td>\n",
              "      <td>0</td>\n",
              "      <td>0</td>\n",
              "      <td>0</td>\n",
              "      <td>0</td>\n",
              "      <td>0</td>\n",
              "      <td>1</td>\n",
              "      <td>0</td>\n",
              "      <td>0</td>\n",
              "      <td>1</td>\n",
              "      <td>0</td>\n",
              "    </tr>\n",
              "    <tr>\n",
              "      <th>3</th>\n",
              "      <td>0</td>\n",
              "      <td>0</td>\n",
              "      <td>0</td>\n",
              "      <td>0</td>\n",
              "      <td>0</td>\n",
              "      <td>0</td>\n",
              "      <td>0</td>\n",
              "      <td>0</td>\n",
              "      <td>0</td>\n",
              "      <td>0</td>\n",
              "      <td>...</td>\n",
              "      <td>0</td>\n",
              "      <td>0</td>\n",
              "      <td>0</td>\n",
              "      <td>0</td>\n",
              "      <td>0</td>\n",
              "      <td>1</td>\n",
              "      <td>0</td>\n",
              "      <td>0</td>\n",
              "      <td>1</td>\n",
              "      <td>0</td>\n",
              "    </tr>\n",
              "    <tr>\n",
              "      <th>4</th>\n",
              "      <td>0</td>\n",
              "      <td>0</td>\n",
              "      <td>0</td>\n",
              "      <td>0</td>\n",
              "      <td>0</td>\n",
              "      <td>0</td>\n",
              "      <td>0</td>\n",
              "      <td>0</td>\n",
              "      <td>0</td>\n",
              "      <td>0</td>\n",
              "      <td>...</td>\n",
              "      <td>0</td>\n",
              "      <td>0</td>\n",
              "      <td>0</td>\n",
              "      <td>0</td>\n",
              "      <td>0</td>\n",
              "      <td>0</td>\n",
              "      <td>0</td>\n",
              "      <td>1</td>\n",
              "      <td>1</td>\n",
              "      <td>0</td>\n",
              "    </tr>\n",
              "  </tbody>\n",
              "</table>\n",
              "<p>5 rows × 2861 columns</p>\n",
              "</div>\n",
              "      <button class=\"colab-df-convert\" onclick=\"convertToInteractive('df-9fbcb2cb-6f18-4d38-a321-d68661b391a2')\"\n",
              "              title=\"Convert this dataframe to an interactive table.\"\n",
              "              style=\"display:none;\">\n",
              "        \n",
              "  <svg xmlns=\"http://www.w3.org/2000/svg\" height=\"24px\"viewBox=\"0 0 24 24\"\n",
              "       width=\"24px\">\n",
              "    <path d=\"M0 0h24v24H0V0z\" fill=\"none\"/>\n",
              "    <path d=\"M18.56 5.44l.94 2.06.94-2.06 2.06-.94-2.06-.94-.94-2.06-.94 2.06-2.06.94zm-11 1L8.5 8.5l.94-2.06 2.06-.94-2.06-.94L8.5 2.5l-.94 2.06-2.06.94zm10 10l.94 2.06.94-2.06 2.06-.94-2.06-.94-.94-2.06-.94 2.06-2.06.94z\"/><path d=\"M17.41 7.96l-1.37-1.37c-.4-.4-.92-.59-1.43-.59-.52 0-1.04.2-1.43.59L10.3 9.45l-7.72 7.72c-.78.78-.78 2.05 0 2.83L4 21.41c.39.39.9.59 1.41.59.51 0 1.02-.2 1.41-.59l7.78-7.78 2.81-2.81c.8-.78.8-2.07 0-2.86zM5.41 20L4 18.59l7.72-7.72 1.47 1.35L5.41 20z\"/>\n",
              "  </svg>\n",
              "      </button>\n",
              "      \n",
              "  <style>\n",
              "    .colab-df-container {\n",
              "      display:flex;\n",
              "      flex-wrap:wrap;\n",
              "      gap: 12px;\n",
              "    }\n",
              "\n",
              "    .colab-df-convert {\n",
              "      background-color: #E8F0FE;\n",
              "      border: none;\n",
              "      border-radius: 50%;\n",
              "      cursor: pointer;\n",
              "      display: none;\n",
              "      fill: #1967D2;\n",
              "      height: 32px;\n",
              "      padding: 0 0 0 0;\n",
              "      width: 32px;\n",
              "    }\n",
              "\n",
              "    .colab-df-convert:hover {\n",
              "      background-color: #E2EBFA;\n",
              "      box-shadow: 0px 1px 2px rgba(60, 64, 67, 0.3), 0px 1px 3px 1px rgba(60, 64, 67, 0.15);\n",
              "      fill: #174EA6;\n",
              "    }\n",
              "\n",
              "    [theme=dark] .colab-df-convert {\n",
              "      background-color: #3B4455;\n",
              "      fill: #D2E3FC;\n",
              "    }\n",
              "\n",
              "    [theme=dark] .colab-df-convert:hover {\n",
              "      background-color: #434B5C;\n",
              "      box-shadow: 0px 1px 3px 1px rgba(0, 0, 0, 0.15);\n",
              "      filter: drop-shadow(0px 1px 2px rgba(0, 0, 0, 0.3));\n",
              "      fill: #FFFFFF;\n",
              "    }\n",
              "  </style>\n",
              "\n",
              "      <script>\n",
              "        const buttonEl =\n",
              "          document.querySelector('#df-9fbcb2cb-6f18-4d38-a321-d68661b391a2 button.colab-df-convert');\n",
              "        buttonEl.style.display =\n",
              "          google.colab.kernel.accessAllowed ? 'block' : 'none';\n",
              "\n",
              "        async function convertToInteractive(key) {\n",
              "          const element = document.querySelector('#df-9fbcb2cb-6f18-4d38-a321-d68661b391a2');\n",
              "          const dataTable =\n",
              "            await google.colab.kernel.invokeFunction('convertToInteractive',\n",
              "                                                     [key], {});\n",
              "          if (!dataTable) return;\n",
              "\n",
              "          const docLinkHtml = 'Like what you see? Visit the ' +\n",
              "            '<a target=\"_blank\" href=https://colab.research.google.com/notebooks/data_table.ipynb>data table notebook</a>'\n",
              "            + ' to learn more about interactive tables.';\n",
              "          element.innerHTML = '';\n",
              "          dataTable['output_type'] = 'display_data';\n",
              "          await google.colab.output.renderOutput(dataTable, element);\n",
              "          const docLink = document.createElement('div');\n",
              "          docLink.innerHTML = docLinkHtml;\n",
              "          element.appendChild(docLink);\n",
              "        }\n",
              "      </script>\n",
              "    </div>\n",
              "  </div>\n",
              "  "
            ]
          },
          "metadata": {},
          "execution_count": 527
        }
      ]
    },
    {
      "cell_type": "markdown",
      "source": [
        "# Concat the columns "
      ],
      "metadata": {
        "id": "fieKYkRLF1yt"
      }
    },
    {
      "cell_type": "code",
      "source": [
        "X_final=pd.concat([num_col,num,X_cat],axis=1)\n",
        "X_final.head()"
      ],
      "metadata": {
        "colab": {
          "base_uri": "https://localhost:8080/",
          "height": 299
        },
        "id": "EqKD50oOP3di",
        "outputId": "a47f6c02-de8c-445d-bc08-a4c27fb47e6b"
      },
      "execution_count": 528,
      "outputs": [
        {
          "output_type": "execute_result",
          "data": {
            "text/plain": [
              "   CustomerId  CreditScore       Age   Balance  EstimatedSalary  Tenure  \\\n",
              "0   -0.783438    -0.324216  0.526407 -1.225731         0.020225       2   \n",
              "1   -0.606709    -0.438038  0.408623  0.116704         0.214873       1   \n",
              "2   -0.996170    -1.534861  0.526407  1.331717         0.239027       8   \n",
              "3    0.144805     0.503575  0.173056 -1.225731        -0.110581       1   \n",
              "4    0.652841     2.066030  0.644190  0.784702        -0.366940       2   \n",
              "\n",
              "   HasCrCard  IsActiveMember  Exited  Surname_Abazu  ...  Surname_Zubarev  \\\n",
              "0          1               1       1              0  ...                0   \n",
              "1          0               1       0              0  ...                0   \n",
              "2          1               0       1              0  ...                0   \n",
              "3          0               0       0              0  ...                0   \n",
              "4          1               1       0              0  ...                0   \n",
              "\n",
              "   Surname_Zubareva  Surname_Zuev  Surname_Zuyev  Surname_Zuyeva  \\\n",
              "0                 0             0              0               0   \n",
              "1                 0             0              0               0   \n",
              "2                 0             0              0               0   \n",
              "3                 0             0              0               0   \n",
              "4                 0             0              0               0   \n",
              "\n",
              "   Geography_France  Geography_Germany  Geography_Spain  Gender_Female  \\\n",
              "0                 1                  0                0              1   \n",
              "1                 0                  0                1              1   \n",
              "2                 1                  0                0              1   \n",
              "3                 1                  0                0              1   \n",
              "4                 0                  0                1              1   \n",
              "\n",
              "   Gender_Male  \n",
              "0            0  \n",
              "1            0  \n",
              "2            0  \n",
              "3            0  \n",
              "4            0  \n",
              "\n",
              "[5 rows x 2870 columns]"
            ],
            "text/html": [
              "\n",
              "  <div id=\"df-78c8ef88-79c5-4962-bf50-7d1aaf3b17c6\">\n",
              "    <div class=\"colab-df-container\">\n",
              "      <div>\n",
              "<style scoped>\n",
              "    .dataframe tbody tr th:only-of-type {\n",
              "        vertical-align: middle;\n",
              "    }\n",
              "\n",
              "    .dataframe tbody tr th {\n",
              "        vertical-align: top;\n",
              "    }\n",
              "\n",
              "    .dataframe thead th {\n",
              "        text-align: right;\n",
              "    }\n",
              "</style>\n",
              "<table border=\"1\" class=\"dataframe\">\n",
              "  <thead>\n",
              "    <tr style=\"text-align: right;\">\n",
              "      <th></th>\n",
              "      <th>CustomerId</th>\n",
              "      <th>CreditScore</th>\n",
              "      <th>Age</th>\n",
              "      <th>Balance</th>\n",
              "      <th>EstimatedSalary</th>\n",
              "      <th>Tenure</th>\n",
              "      <th>HasCrCard</th>\n",
              "      <th>IsActiveMember</th>\n",
              "      <th>Exited</th>\n",
              "      <th>Surname_Abazu</th>\n",
              "      <th>...</th>\n",
              "      <th>Surname_Zubarev</th>\n",
              "      <th>Surname_Zubareva</th>\n",
              "      <th>Surname_Zuev</th>\n",
              "      <th>Surname_Zuyev</th>\n",
              "      <th>Surname_Zuyeva</th>\n",
              "      <th>Geography_France</th>\n",
              "      <th>Geography_Germany</th>\n",
              "      <th>Geography_Spain</th>\n",
              "      <th>Gender_Female</th>\n",
              "      <th>Gender_Male</th>\n",
              "    </tr>\n",
              "  </thead>\n",
              "  <tbody>\n",
              "    <tr>\n",
              "      <th>0</th>\n",
              "      <td>-0.783438</td>\n",
              "      <td>-0.324216</td>\n",
              "      <td>0.526407</td>\n",
              "      <td>-1.225731</td>\n",
              "      <td>0.020225</td>\n",
              "      <td>2</td>\n",
              "      <td>1</td>\n",
              "      <td>1</td>\n",
              "      <td>1</td>\n",
              "      <td>0</td>\n",
              "      <td>...</td>\n",
              "      <td>0</td>\n",
              "      <td>0</td>\n",
              "      <td>0</td>\n",
              "      <td>0</td>\n",
              "      <td>0</td>\n",
              "      <td>1</td>\n",
              "      <td>0</td>\n",
              "      <td>0</td>\n",
              "      <td>1</td>\n",
              "      <td>0</td>\n",
              "    </tr>\n",
              "    <tr>\n",
              "      <th>1</th>\n",
              "      <td>-0.606709</td>\n",
              "      <td>-0.438038</td>\n",
              "      <td>0.408623</td>\n",
              "      <td>0.116704</td>\n",
              "      <td>0.214873</td>\n",
              "      <td>1</td>\n",
              "      <td>0</td>\n",
              "      <td>1</td>\n",
              "      <td>0</td>\n",
              "      <td>0</td>\n",
              "      <td>...</td>\n",
              "      <td>0</td>\n",
              "      <td>0</td>\n",
              "      <td>0</td>\n",
              "      <td>0</td>\n",
              "      <td>0</td>\n",
              "      <td>0</td>\n",
              "      <td>0</td>\n",
              "      <td>1</td>\n",
              "      <td>1</td>\n",
              "      <td>0</td>\n",
              "    </tr>\n",
              "    <tr>\n",
              "      <th>2</th>\n",
              "      <td>-0.996170</td>\n",
              "      <td>-1.534861</td>\n",
              "      <td>0.526407</td>\n",
              "      <td>1.331717</td>\n",
              "      <td>0.239027</td>\n",
              "      <td>8</td>\n",
              "      <td>1</td>\n",
              "      <td>0</td>\n",
              "      <td>1</td>\n",
              "      <td>0</td>\n",
              "      <td>...</td>\n",
              "      <td>0</td>\n",
              "      <td>0</td>\n",
              "      <td>0</td>\n",
              "      <td>0</td>\n",
              "      <td>0</td>\n",
              "      <td>1</td>\n",
              "      <td>0</td>\n",
              "      <td>0</td>\n",
              "      <td>1</td>\n",
              "      <td>0</td>\n",
              "    </tr>\n",
              "    <tr>\n",
              "      <th>3</th>\n",
              "      <td>0.144805</td>\n",
              "      <td>0.503575</td>\n",
              "      <td>0.173056</td>\n",
              "      <td>-1.225731</td>\n",
              "      <td>-0.110581</td>\n",
              "      <td>1</td>\n",
              "      <td>0</td>\n",
              "      <td>0</td>\n",
              "      <td>0</td>\n",
              "      <td>0</td>\n",
              "      <td>...</td>\n",
              "      <td>0</td>\n",
              "      <td>0</td>\n",
              "      <td>0</td>\n",
              "      <td>0</td>\n",
              "      <td>0</td>\n",
              "      <td>1</td>\n",
              "      <td>0</td>\n",
              "      <td>0</td>\n",
              "      <td>1</td>\n",
              "      <td>0</td>\n",
              "    </tr>\n",
              "    <tr>\n",
              "      <th>4</th>\n",
              "      <td>0.652841</td>\n",
              "      <td>2.066030</td>\n",
              "      <td>0.644190</td>\n",
              "      <td>0.784702</td>\n",
              "      <td>-0.366940</td>\n",
              "      <td>2</td>\n",
              "      <td>1</td>\n",
              "      <td>1</td>\n",
              "      <td>0</td>\n",
              "      <td>0</td>\n",
              "      <td>...</td>\n",
              "      <td>0</td>\n",
              "      <td>0</td>\n",
              "      <td>0</td>\n",
              "      <td>0</td>\n",
              "      <td>0</td>\n",
              "      <td>0</td>\n",
              "      <td>0</td>\n",
              "      <td>1</td>\n",
              "      <td>1</td>\n",
              "      <td>0</td>\n",
              "    </tr>\n",
              "  </tbody>\n",
              "</table>\n",
              "<p>5 rows × 2870 columns</p>\n",
              "</div>\n",
              "      <button class=\"colab-df-convert\" onclick=\"convertToInteractive('df-78c8ef88-79c5-4962-bf50-7d1aaf3b17c6')\"\n",
              "              title=\"Convert this dataframe to an interactive table.\"\n",
              "              style=\"display:none;\">\n",
              "        \n",
              "  <svg xmlns=\"http://www.w3.org/2000/svg\" height=\"24px\"viewBox=\"0 0 24 24\"\n",
              "       width=\"24px\">\n",
              "    <path d=\"M0 0h24v24H0V0z\" fill=\"none\"/>\n",
              "    <path d=\"M18.56 5.44l.94 2.06.94-2.06 2.06-.94-2.06-.94-.94-2.06-.94 2.06-2.06.94zm-11 1L8.5 8.5l.94-2.06 2.06-.94-2.06-.94L8.5 2.5l-.94 2.06-2.06.94zm10 10l.94 2.06.94-2.06 2.06-.94-2.06-.94-.94-2.06-.94 2.06-2.06.94z\"/><path d=\"M17.41 7.96l-1.37-1.37c-.4-.4-.92-.59-1.43-.59-.52 0-1.04.2-1.43.59L10.3 9.45l-7.72 7.72c-.78.78-.78 2.05 0 2.83L4 21.41c.39.39.9.59 1.41.59.51 0 1.02-.2 1.41-.59l7.78-7.78 2.81-2.81c.8-.78.8-2.07 0-2.86zM5.41 20L4 18.59l7.72-7.72 1.47 1.35L5.41 20z\"/>\n",
              "  </svg>\n",
              "      </button>\n",
              "      \n",
              "  <style>\n",
              "    .colab-df-container {\n",
              "      display:flex;\n",
              "      flex-wrap:wrap;\n",
              "      gap: 12px;\n",
              "    }\n",
              "\n",
              "    .colab-df-convert {\n",
              "      background-color: #E8F0FE;\n",
              "      border: none;\n",
              "      border-radius: 50%;\n",
              "      cursor: pointer;\n",
              "      display: none;\n",
              "      fill: #1967D2;\n",
              "      height: 32px;\n",
              "      padding: 0 0 0 0;\n",
              "      width: 32px;\n",
              "    }\n",
              "\n",
              "    .colab-df-convert:hover {\n",
              "      background-color: #E2EBFA;\n",
              "      box-shadow: 0px 1px 2px rgba(60, 64, 67, 0.3), 0px 1px 3px 1px rgba(60, 64, 67, 0.15);\n",
              "      fill: #174EA6;\n",
              "    }\n",
              "\n",
              "    [theme=dark] .colab-df-convert {\n",
              "      background-color: #3B4455;\n",
              "      fill: #D2E3FC;\n",
              "    }\n",
              "\n",
              "    [theme=dark] .colab-df-convert:hover {\n",
              "      background-color: #434B5C;\n",
              "      box-shadow: 0px 1px 3px 1px rgba(0, 0, 0, 0.15);\n",
              "      filter: drop-shadow(0px 1px 2px rgba(0, 0, 0, 0.3));\n",
              "      fill: #FFFFFF;\n",
              "    }\n",
              "  </style>\n",
              "\n",
              "      <script>\n",
              "        const buttonEl =\n",
              "          document.querySelector('#df-78c8ef88-79c5-4962-bf50-7d1aaf3b17c6 button.colab-df-convert');\n",
              "        buttonEl.style.display =\n",
              "          google.colab.kernel.accessAllowed ? 'block' : 'none';\n",
              "\n",
              "        async function convertToInteractive(key) {\n",
              "          const element = document.querySelector('#df-78c8ef88-79c5-4962-bf50-7d1aaf3b17c6');\n",
              "          const dataTable =\n",
              "            await google.colab.kernel.invokeFunction('convertToInteractive',\n",
              "                                                     [key], {});\n",
              "          if (!dataTable) return;\n",
              "\n",
              "          const docLinkHtml = 'Like what you see? Visit the ' +\n",
              "            '<a target=\"_blank\" href=https://colab.research.google.com/notebooks/data_table.ipynb>data table notebook</a>'\n",
              "            + ' to learn more about interactive tables.';\n",
              "          element.innerHTML = '';\n",
              "          dataTable['output_type'] = 'display_data';\n",
              "          await google.colab.output.renderOutput(dataTable, element);\n",
              "          const docLink = document.createElement('div');\n",
              "          docLink.innerHTML = docLinkHtml;\n",
              "          element.appendChild(docLink);\n",
              "        }\n",
              "      </script>\n",
              "    </div>\n",
              "  </div>\n",
              "  "
            ]
          },
          "metadata": {},
          "execution_count": 528
        }
      ]
    },
    {
      "cell_type": "markdown",
      "source": [
        "#spliting the data into training and testing"
      ],
      "metadata": {
        "id": "gJ4kYIvKSs9m"
      }
    },
    {
      "cell_type": "code",
      "source": [
        "# Split the data into X and y variable\n",
        "# X is independent variable and y is dependent variable\n",
        "X=X_final.drop(['Exited'],axis=1)\n",
        "y=df['Exited']"
      ],
      "metadata": {
        "id": "gR1CLuxaPEJo"
      },
      "execution_count": 529,
      "outputs": []
    },
    {
      "cell_type": "code",
      "source": [
        "X.shape"
      ],
      "metadata": {
        "colab": {
          "base_uri": "https://localhost:8080/",
          "height": 0
        },
        "id": "7XJJPa4DRRlz",
        "outputId": "50ce4d49-5887-4093-d837-f4fcbfc2b828"
      },
      "execution_count": 530,
      "outputs": [
        {
          "output_type": "execute_result",
          "data": {
            "text/plain": [
              "(9536, 2869)"
            ]
          },
          "metadata": {},
          "execution_count": 530
        }
      ]
    },
    {
      "cell_type": "code",
      "source": [
        "y.shape"
      ],
      "metadata": {
        "colab": {
          "base_uri": "https://localhost:8080/",
          "height": 0
        },
        "id": "Cqm3TIPcRR07",
        "outputId": "4785db22-35ce-414f-ff74-a37757ecbf2e"
      },
      "execution_count": 531,
      "outputs": [
        {
          "output_type": "execute_result",
          "data": {
            "text/plain": [
              "(9536,)"
            ]
          },
          "metadata": {},
          "execution_count": 531
        }
      ]
    },
    {
      "cell_type": "code",
      "source": [
        "from sklearn.model_selection import train_test_split\n",
        "from sklearn.metrics import classification_report\n",
        "X_train,X_test,y_train,y_test=train_test_split(X_final,y,test_size=0.3,random_state=1)"
      ],
      "metadata": {
        "id": "TgGzSjB5RhLB"
      },
      "execution_count": 532,
      "outputs": []
    },
    {
      "cell_type": "code",
      "source": [
        "X_train.shape"
      ],
      "metadata": {
        "colab": {
          "base_uri": "https://localhost:8080/",
          "height": 0
        },
        "id": "OTaciilmSooO",
        "outputId": "824fc01f-60dd-4977-a1ca-8c643aa4742c"
      },
      "execution_count": 533,
      "outputs": [
        {
          "output_type": "execute_result",
          "data": {
            "text/plain": [
              "(6675, 2870)"
            ]
          },
          "metadata": {},
          "execution_count": 533
        }
      ]
    },
    {
      "cell_type": "code",
      "source": [
        "from tensorflow.keras.models import Sequential\n",
        "from tensorflow.keras.layers import Dense,Dropout\n"
      ],
      "metadata": {
        "id": "VdYO1SX5S2vR"
      },
      "execution_count": 534,
      "outputs": []
    },
    {
      "cell_type": "code",
      "source": [
        "model=Sequential()\n",
        "model.add(Dense(64,activation='relu',input_dim=2870))\n",
        "model.add(Dense(64,activation='relu'))\n",
        "model.add(Dropout(0.2))\n",
        "model.add(Dense(32,activation='relu'))\n",
        "model.add(Dense(1,activation='sigmoid'))"
      ],
      "metadata": {
        "id": "BwEvzSafS9B-"
      },
      "execution_count": 535,
      "outputs": []
    },
    {
      "cell_type": "code",
      "source": [
        "model.compile(optimizer=\"adam\",loss=\"binary_crossentropy\",metrics=[\"accuracy\"])"
      ],
      "metadata": {
        "id": "o6Af2iBPUE90"
      },
      "execution_count": 536,
      "outputs": []
    },
    {
      "cell_type": "code",
      "source": [
        "history=model.fit(X_train,y_train,epochs=50,batch_size=120)"
      ],
      "metadata": {
        "colab": {
          "base_uri": "https://localhost:8080/",
          "height": 0
        },
        "id": "iR6xLau_UKQi",
        "outputId": "5191dbe7-cfb0-4faf-e298-095b14a1887c"
      },
      "execution_count": 537,
      "outputs": [
        {
          "output_type": "stream",
          "name": "stdout",
          "text": [
            "Epoch 1/50\n",
            "56/56 [==============================] - 1s 7ms/step - loss: 0.4439 - accuracy: 0.8081\n",
            "Epoch 2/50\n",
            "56/56 [==============================] - 0s 7ms/step - loss: 0.0879 - accuracy: 0.9789\n",
            "Epoch 3/50\n",
            "56/56 [==============================] - 0s 6ms/step - loss: 0.0028 - accuracy: 1.0000\n",
            "Epoch 4/50\n",
            "56/56 [==============================] - 0s 7ms/step - loss: 9.5501e-04 - accuracy: 1.0000\n",
            "Epoch 5/50\n",
            "56/56 [==============================] - 0s 7ms/step - loss: 4.2072e-04 - accuracy: 1.0000\n",
            "Epoch 6/50\n",
            "56/56 [==============================] - 0s 6ms/step - loss: 2.5016e-04 - accuracy: 1.0000\n",
            "Epoch 7/50\n",
            "56/56 [==============================] - 0s 7ms/step - loss: 1.5827e-04 - accuracy: 1.0000\n",
            "Epoch 8/50\n",
            "56/56 [==============================] - 0s 7ms/step - loss: 1.5035e-04 - accuracy: 1.0000\n",
            "Epoch 9/50\n",
            "56/56 [==============================] - 0s 7ms/step - loss: 9.8359e-05 - accuracy: 1.0000\n",
            "Epoch 10/50\n",
            "56/56 [==============================] - 0s 7ms/step - loss: 7.1767e-05 - accuracy: 1.0000\n",
            "Epoch 11/50\n",
            "56/56 [==============================] - 0s 7ms/step - loss: 9.5770e-05 - accuracy: 1.0000\n",
            "Epoch 12/50\n",
            "56/56 [==============================] - 0s 6ms/step - loss: 5.0519e-05 - accuracy: 1.0000\n",
            "Epoch 13/50\n",
            "56/56 [==============================] - 0s 7ms/step - loss: 3.6230e-05 - accuracy: 1.0000\n",
            "Epoch 14/50\n",
            "56/56 [==============================] - 0s 7ms/step - loss: 4.1071e-05 - accuracy: 1.0000\n",
            "Epoch 15/50\n",
            "56/56 [==============================] - 0s 7ms/step - loss: 4.0275e-05 - accuracy: 1.0000\n",
            "Epoch 16/50\n",
            "56/56 [==============================] - 0s 7ms/step - loss: 3.4086e-05 - accuracy: 1.0000\n",
            "Epoch 17/50\n",
            "56/56 [==============================] - 0s 7ms/step - loss: 2.9950e-05 - accuracy: 1.0000\n",
            "Epoch 18/50\n",
            "56/56 [==============================] - 0s 7ms/step - loss: 2.2437e-05 - accuracy: 1.0000\n",
            "Epoch 19/50\n",
            "56/56 [==============================] - 0s 7ms/step - loss: 2.8838e-05 - accuracy: 1.0000\n",
            "Epoch 20/50\n",
            "56/56 [==============================] - 0s 7ms/step - loss: 2.0182e-05 - accuracy: 1.0000\n",
            "Epoch 21/50\n",
            "56/56 [==============================] - 0s 6ms/step - loss: 1.6192e-05 - accuracy: 1.0000\n",
            "Epoch 22/50\n",
            "56/56 [==============================] - 0s 7ms/step - loss: 1.8051e-05 - accuracy: 1.0000\n",
            "Epoch 23/50\n",
            "56/56 [==============================] - 0s 7ms/step - loss: 1.5374e-05 - accuracy: 1.0000\n",
            "Epoch 24/50\n",
            "56/56 [==============================] - 0s 7ms/step - loss: 1.4927e-05 - accuracy: 1.0000\n",
            "Epoch 25/50\n",
            "56/56 [==============================] - 0s 6ms/step - loss: 1.9663e-05 - accuracy: 1.0000\n",
            "Epoch 26/50\n",
            "56/56 [==============================] - 0s 7ms/step - loss: 1.2296e-05 - accuracy: 1.0000\n",
            "Epoch 27/50\n",
            "56/56 [==============================] - 0s 7ms/step - loss: 9.5767e-06 - accuracy: 1.0000\n",
            "Epoch 28/50\n",
            "56/56 [==============================] - 0s 7ms/step - loss: 1.0780e-05 - accuracy: 1.0000\n",
            "Epoch 29/50\n",
            "56/56 [==============================] - 0s 7ms/step - loss: 8.4130e-06 - accuracy: 1.0000\n",
            "Epoch 30/50\n",
            "56/56 [==============================] - 0s 6ms/step - loss: 1.0973e-05 - accuracy: 1.0000\n",
            "Epoch 31/50\n",
            "56/56 [==============================] - 0s 6ms/step - loss: 1.3561e-05 - accuracy: 1.0000\n",
            "Epoch 32/50\n",
            "56/56 [==============================] - 0s 7ms/step - loss: 6.8604e-06 - accuracy: 1.0000\n",
            "Epoch 33/50\n",
            "56/56 [==============================] - 0s 6ms/step - loss: 3.0392e-05 - accuracy: 1.0000\n",
            "Epoch 34/50\n",
            "56/56 [==============================] - 0s 7ms/step - loss: 8.3042e-06 - accuracy: 1.0000\n",
            "Epoch 35/50\n",
            "56/56 [==============================] - 0s 7ms/step - loss: 7.4889e-06 - accuracy: 1.0000\n",
            "Epoch 36/50\n",
            "56/56 [==============================] - 0s 7ms/step - loss: 6.3704e-06 - accuracy: 1.0000\n",
            "Epoch 37/50\n",
            "56/56 [==============================] - 0s 7ms/step - loss: 4.4955e-06 - accuracy: 1.0000\n",
            "Epoch 38/50\n",
            "56/56 [==============================] - 0s 6ms/step - loss: 6.1381e-06 - accuracy: 1.0000\n",
            "Epoch 39/50\n",
            "56/56 [==============================] - 0s 7ms/step - loss: 4.2887e-06 - accuracy: 1.0000\n",
            "Epoch 40/50\n",
            "56/56 [==============================] - 0s 7ms/step - loss: 6.6187e-06 - accuracy: 1.0000\n",
            "Epoch 41/50\n",
            "56/56 [==============================] - 0s 6ms/step - loss: 3.6231e-06 - accuracy: 1.0000\n",
            "Epoch 42/50\n",
            "56/56 [==============================] - 0s 6ms/step - loss: 4.3200e-06 - accuracy: 1.0000\n",
            "Epoch 43/50\n",
            "56/56 [==============================] - 0s 7ms/step - loss: 7.8520e-06 - accuracy: 1.0000\n",
            "Epoch 44/50\n",
            "56/56 [==============================] - 0s 6ms/step - loss: 3.8099e-06 - accuracy: 1.0000\n",
            "Epoch 45/50\n",
            "56/56 [==============================] - 0s 6ms/step - loss: 4.9135e-06 - accuracy: 1.0000\n",
            "Epoch 46/50\n",
            "56/56 [==============================] - 0s 6ms/step - loss: 4.2051e-06 - accuracy: 1.0000\n",
            "Epoch 47/50\n",
            "56/56 [==============================] - 0s 7ms/step - loss: 2.2801e-06 - accuracy: 1.0000\n",
            "Epoch 48/50\n",
            "56/56 [==============================] - 0s 7ms/step - loss: 4.7580e-06 - accuracy: 1.0000\n",
            "Epoch 49/50\n",
            "56/56 [==============================] - 0s 7ms/step - loss: 2.7122e-06 - accuracy: 1.0000\n",
            "Epoch 50/50\n",
            "56/56 [==============================] - 0s 7ms/step - loss: 2.6092e-06 - accuracy: 1.0000\n"
          ]
        }
      ]
    },
    {
      "cell_type": "code",
      "source": [
        "plt.plot(history.history['loss'])"
      ],
      "metadata": {
        "colab": {
          "base_uri": "https://localhost:8080/",
          "height": 282
        },
        "id": "hFOh78y1VSXb",
        "outputId": "ca07fbe7-5fd1-4ae1-b4c9-cb6e310f03f0"
      },
      "execution_count": 538,
      "outputs": [
        {
          "output_type": "execute_result",
          "data": {
            "text/plain": [
              "[<matplotlib.lines.Line2D at 0x7fb0f1523610>]"
            ]
          },
          "metadata": {},
          "execution_count": 538
        },
        {
          "output_type": "display_data",
          "data": {
            "text/plain": [
              "<Figure size 432x288 with 1 Axes>"
            ],
            "image/png": "[encoded data removed]"
          },
          "metadata": {}
        }
      ]
    },
    {
      "cell_type": "code",
      "source": [
        "plt.plot(history.history['accuracy'])"
      ],
      "metadata": {
        "colab": {
          "base_uri": "https://localhost:8080/",
          "height": 282
        },
        "id": "J1AGMTOjVhWL",
        "outputId": "576aa75e-6908-4cfb-b0db-43138bb741a7"
      },
      "execution_count": 539,
      "outputs": [
        {
          "output_type": "execute_result",
          "data": {
            "text/plain": [
              "[<matplotlib.lines.Line2D at 0x7fb0f14fccd0>]"
            ]
          },
          "metadata": {},
          "execution_count": 539
        },
        {
          "output_type": "display_data",
          "data": {
            "text/plain": [
              "<Figure size 432x288 with 1 Axes>"
            ],
            "image/png": "[encoded data removed]"
          },
          "metadata": {}
        }
      ]
    },
    {
      "cell_type": "code",
      "source": [
        "y_pred=model.predict(X_test)\n",
        "y_pred\n"
      ],
      "metadata": {
        "colab": {
          "base_uri": "https://localhost:8080/",
          "height": 0
        },
        "id": "QixTFn4JVjvO",
        "outputId": "e801677a-57a9-44ba-a35e-e4e90c40c15e"
      },
      "execution_count": 540,
      "outputs": [
        {
          "output_type": "execute_result",
          "data": {
            "text/plain": [
              "array([[3.8226159e-07],\n",
              "       [1.9148565e-08],\n",
              "       [3.0423919e-08],\n",
              "       ...,\n",
              "       [8.6323546e-08],\n",
              "       [2.4366503e-07],\n",
              "       [8.0629540e-08]], dtype=float32)"
            ]
          },
          "metadata": {},
          "execution_count": 540
        }
      ]
    },
    {
      "cell_type": "code",
      "source": [
        "y_pred=np.where(y_pred >=0.5,1,0)\n",
        "y_pred"
      ],
      "metadata": {
        "colab": {
          "base_uri": "https://localhost:8080/",
          "height": 0
        },
        "id": "G3nGiLmEVnch",
        "outputId": "8c0b0ffa-d1ef-4e00-bbd5-f7f98013a469"
      },
      "execution_count": 541,
      "outputs": [
        {
          "output_type": "execute_result",
          "data": {
            "text/plain": [
              "array([[0],\n",
              "       [0],\n",
              "       [0],\n",
              "       ...,\n",
              "       [0],\n",
              "       [0],\n",
              "       [0]])"
            ]
          },
          "metadata": {},
          "execution_count": 541
        }
      ]
    },
    {
      "cell_type": "code",
      "source": [
        "print(classification_report(y_test,y_pred))"
      ],
      "metadata": {
        "colab": {
          "base_uri": "https://localhost:8080/",
          "height": 0
        },
        "id": "gyPt7ILYVqq0",
        "outputId": "48f0bb5d-e36a-43b7-eadb-77b2ea8aa254"
      },
      "execution_count": 542,
      "outputs": [
        {
          "output_type": "stream",
          "name": "stdout",
          "text": [
            "              precision    recall  f1-score   support\n",
            "\n",
            "           0       1.00      1.00      1.00      2321\n",
            "           1       1.00      1.00      1.00       540\n",
            "\n",
            "    accuracy                           1.00      2861\n",
            "   macro avg       1.00      1.00      1.00      2861\n",
            "weighted avg       1.00      1.00      1.00      2861\n",
            "\n"
          ]
        }
      ]
    },
    {
      "cell_type": "code",
      "source": [
        "from sklearn.metrics import classification_report,accuracy_score\n",
        "print('Accuracy Score: ',accuracy_score(y_test,y_pred))"
      ],
      "metadata": {
        "colab": {
          "base_uri": "https://localhost:8080/",
          "height": 0
        },
        "id": "TK6cLe33VtRh",
        "outputId": "cbf81225-64c9-4daf-9905-ebf454fc5207"
      },
      "execution_count": 543,
      "outputs": [
        {
          "output_type": "stream",
          "name": "stdout",
          "text": [
            "Accuracy Score:  1.0\n"
          ]
        }
      ]
    },
    {
      "cell_type": "code",
      "source": [
        ""
      ],
      "metadata": {
        "id": "2S5Lu1o_WO8c"
      },
      "execution_count": 543,
      "outputs": []
    }
  ],
  "metadata": {
    "colab": {
      "name": "deep_learning Project.ipynb",
      "provenance": []
    },
    "kernelspec": {
      "display_name": "Python 3",
      "name": "python3"
    },
    "language_info": {
      "name": "python"
    }
  },
  "nbformat": 4,
  "nbformat_minor": 0
}